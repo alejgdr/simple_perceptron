{
 "cells": [
  {
   "cell_type": "markdown",
   "metadata": {},
   "source": [
    "# Weighted sum"
   ]
  },
  {
   "cell_type": "code",
   "execution_count": 1,
   "metadata": {},
   "outputs": [],
   "source": [
    "import numpy as np\n",
    "import pandas as pd"
   ]
  },
  {
   "cell_type": "code",
   "execution_count": 2,
   "metadata": {},
   "outputs": [],
   "source": [
    "nl1=2 #no. of nodes of layer 1\n",
    "nl2=1 #no. of nodes of layer 2\n",
    "w=np.array((np.random.rand(nl2,nl1)))\n",
    "h=np.array((np.random.rand(nl1,1),np.random.rand(nl2,1)))"
   ]
  },
  {
   "cell_type": "code",
   "execution_count": 3,
   "metadata": {},
   "outputs": [
    {
     "data": {
      "text/plain": [
       "array([[0.34138071, 0.53611016]])"
      ]
     },
     "execution_count": 3,
     "metadata": {},
     "output_type": "execute_result"
    }
   ],
   "source": [
    "w"
   ]
  },
  {
   "cell_type": "code",
   "execution_count": 4,
   "metadata": {},
   "outputs": [
    {
     "data": {
      "text/plain": [
       "array([array([[0.21351331],\n",
       "       [0.33716816]]), array([[0.0691624]])], dtype=object)"
      ]
     },
     "execution_count": 4,
     "metadata": {},
     "output_type": "execute_result"
    }
   ],
   "source": [
    "h"
   ]
  },
  {
   "cell_type": "markdown",
   "metadata": {},
   "source": [
    "## bias"
   ]
  },
  {
   "cell_type": "code",
   "execution_count": 5,
   "metadata": {},
   "outputs": [
    {
     "data": {
      "text/plain": [
       "array([[0.71685479]])"
      ]
     },
     "execution_count": 5,
     "metadata": {},
     "output_type": "execute_result"
    }
   ],
   "source": [
    "b=np.random.rand(nl2,1)\n",
    "b"
   ]
  },
  {
   "cell_type": "markdown",
   "metadata": {},
   "source": [
    "# Inputs"
   ]
  },
  {
   "cell_type": "code",
   "execution_count": 6,
   "metadata": {},
   "outputs": [
    {
     "data": {
      "text/plain": [
       "array([[5.],\n",
       "       [2.]])"
      ]
     },
     "execution_count": 6,
     "metadata": {},
     "output_type": "execute_result"
    }
   ],
   "source": [
    "h[0][0]=5\n",
    "h[0][1]=2\n",
    "h[0]"
   ]
  },
  {
   "cell_type": "markdown",
   "metadata": {},
   "source": [
    "# Weighted sum (Feed forward)"
   ]
  },
  {
   "cell_type": "code",
   "execution_count": 7,
   "metadata": {},
   "outputs": [
    {
     "data": {
      "text/plain": [
       "array([[2.7791239]])"
      ]
     },
     "execution_count": 7,
     "metadata": {},
     "output_type": "execute_result"
    }
   ],
   "source": [
    "cbs=w.dot(h[0])+b[0,0] #with bias\n",
    "sbs=w.dot(h[0]) #withoout bias\n",
    "sbs"
   ]
  },
  {
   "cell_type": "markdown",
   "metadata": {},
   "source": [
    "### Sigmoid function"
   ]
  },
  {
   "cell_type": "code",
   "execution_count": 8,
   "metadata": {},
   "outputs": [],
   "source": [
    "def sigmoid(z):\n",
    " sigma=1/(1+np.exp(-z))\n",
    " return sigma\n",
    " "
   ]
  },
  {
   "cell_type": "markdown",
   "metadata": {},
   "source": [
    "##  Perceptron Feedforward"
   ]
  },
  {
   "cell_type": "code",
   "execution_count": 9,
   "metadata": {},
   "outputs": [
    {
     "name": "stdout",
     "output_type": "stream",
     "text": [
      "con bias[[0.97057313]]sin bias[[0.94153724]]\n"
     ]
    }
   ],
   "source": [
    "h[0][0]=5\n",
    "h[0][1]=2\n",
    "bs=sigmoid(w.dot(h[0])+b[0,0]) #with bias\n",
    "sbs=sigmoid(w.dot(h[0]))#without bias\n",
    "\n",
    "print('con bias'+str(bs)+'sin bias'+str(sbs))"
   ]
  },
  {
   "cell_type": "markdown",
   "metadata": {},
   "source": [
    "# Cost function"
   ]
  },
  {
   "cell_type": "code",
   "execution_count": 10,
   "metadata": {},
   "outputs": [],
   "source": [
    "def cost(y,h):\n",
    "    C=(y-h)**2\n",
    "    return C"
   ]
  },
  {
   "cell_type": "code",
   "execution_count": 11,
   "metadata": {},
   "outputs": [
    {
     "name": "stdout",
     "output_type": "stream",
     "text": [
      "costo con bias[[0.06789836]]costo sin bias[[0.05360949]]\n"
     ]
    }
   ],
   "source": [
    "y=.71\n",
    "Cb=cost(y,bs)\n",
    "Cbs=cost(y,sbs)\n",
    "#Cb=(y-bs)**2\n",
    "#Cbs=(y-sbs)**2\n",
    "print('costo con bias'+str(Cb)+'costo sin bias'+str(Cbs))"
   ]
  },
  {
   "cell_type": "markdown",
   "metadata": {},
   "source": [
    "# Backpropagation"
   ]
  },
  {
   "cell_type": "markdown",
   "metadata": {},
   "source": [
    "## defining the gradient descents derivates"
   ]
  },
  {
   "cell_type": "code",
   "execution_count": 12,
   "metadata": {},
   "outputs": [],
   "source": [
    "def dC(y,h): #dC/dh\n",
    " dcdh=-2*(y-h)\n",
    " return dcdh\n",
    "def dh(z): #dh/dz\n",
    " dhdz=sigmoid(z)*(1-sigmoid(z))\n",
    " return dhdz\n",
    "def dz(h): #dz/dw\n",
    " dzdw=h\n",
    " return dzdw"
   ]
  },
  {
   "cell_type": "code",
   "execution_count": 13,
   "metadata": {},
   "outputs": [],
   "source": [
    "#Training our perceptron"
   ]
  },
  {
   "cell_type": "code",
   "execution_count": 42,
   "metadata": {},
   "outputs": [
    {
     "name": "stdout",
     "output_type": "stream",
     "text": [
      "pesos iniciales [[0.98611361 0.55968332]]\n",
      "bias inicial [[0.61387078]]\n",
      "costo [[0.0827411]]\n",
      "costo [[0.08271441]]\n",
      "costo [[0.08268666]]\n",
      "costo [[0.0826578]]\n",
      "costo [[0.08262774]]\n",
      "costo [[0.08259642]]\n",
      "costo [[0.08256376]]\n",
      "costo [[0.08252966]]\n",
      "costo [[0.08249404]]\n",
      "costo [[0.08245678]]\n",
      "costo [[0.08241778]]\n",
      "costo [[0.08237692]]\n",
      "costo [[0.08233404]]\n",
      "costo [[0.08228902]]\n",
      "costo [[0.08224167]]\n",
      "costo [[0.08219182]]\n",
      "costo [[0.08213927]]\n",
      "costo [[0.08208379]]\n",
      "costo [[0.08202514]]\n",
      "costo [[0.08196303]]\n",
      "costo [[0.08189717]]\n",
      "costo [[0.08182719]]\n",
      "costo [[0.08175271]]\n",
      "costo [[0.08167329]]\n",
      "costo [[0.08158842]]\n",
      "costo [[0.08149753]]\n",
      "costo [[0.08139997]]\n",
      "costo [[0.08129499]]\n",
      "costo [[0.08118173]]\n",
      "costo [[0.08105917]]\n",
      "costo [[0.08092616]]\n",
      "costo [[0.08078131]]\n",
      "costo [[0.08062301]]\n",
      "costo [[0.08044935]]\n",
      "costo [[0.080258]]\n",
      "costo [[0.08004621]]\n",
      "costo [[0.0798106]]\n",
      "costo [[0.07954701]]\n",
      "costo [[0.07925032]]\n",
      "costo [[0.07891405]]\n",
      "costo [[0.07853003]]\n",
      "costo [[0.07808768]]\n",
      "costo [[0.07757321]]\n",
      "costo [[0.07696822]]\n",
      "costo [[0.07624779]]\n",
      "costo [[0.07537735]]\n",
      "costo [[0.07430783]]\n",
      "costo [[0.07296753]]\n",
      "costo [[0.07124848]]\n",
      "costo [[0.06898235]]\n",
      "costo [[0.06589703]]\n",
      "costo [[0.06153725]]\n",
      "costo [[0.05512666]]\n",
      "costo [[0.04539458]]\n",
      "costo [[0.03081007]]\n",
      "costo [[0.01254076]]\n",
      "costo [[0.00100285]]\n",
      "costo [[1.18846809e-05]]\n",
      "costo [[6.91991275e-07]]\n",
      "costo [[3.55170685e-08]]\n",
      "costo [[1.88054977e-09]]\n",
      "costo [[9.88754456e-11]]\n",
      "costo [[5.20706986e-12]]\n",
      "costo [[2.74118021e-13]]\n",
      "costo [[1.4431739e-14]]\n",
      "costo [[7.59785986e-16]]\n",
      "costo [[4.00005379e-17]]\n",
      "costo [[2.10591069e-18]]\n",
      "costo [[1.1087012e-19]]\n",
      "costo [[5.83699354e-21]]\n",
      "costo [[3.0730011e-22]]\n",
      "costo [[1.617831e-23]]\n",
      "costo [[8.51591913e-25]]\n",
      "costo [[4.48251597e-26]]\n",
      "costo [[2.36465987e-27]]\n",
      "costo [[1.25737033e-28]]\n",
      "costo [[6.52042842e-30]]\n",
      "costo [[3.08148791e-31]]\n",
      "costo [[4.93038066e-32]]\n",
      "costo [[1.23259516e-32]]\n",
      "costo [[1.23259516e-32]]\n",
      "costo [[1.23259516e-32]]\n",
      "costo [[1.23259516e-32]]\n",
      "costo [[1.23259516e-32]]\n",
      "costo [[1.23259516e-32]]\n",
      "costo [[1.23259516e-32]]\n",
      "costo [[1.23259516e-32]]\n",
      "costo [[1.23259516e-32]]\n",
      "costo [[1.23259516e-32]]\n",
      "costo [[1.23259516e-32]]\n",
      "costo [[1.23259516e-32]]\n",
      "costo [[1.23259516e-32]]\n",
      "costo [[1.23259516e-32]]\n",
      "costo [[1.23259516e-32]]\n",
      "costo [[1.23259516e-32]]\n",
      "costo [[1.23259516e-32]]\n",
      "costo [[1.23259516e-32]]\n",
      "costo [[1.23259516e-32]]\n",
      "costo [[1.23259516e-32]]\n",
      "costo [[1.23259516e-32]]\n"
     ]
    }
   ],
   "source": [
    "nl1=2 #nodes in Layer 1\n",
    "nl2=1 #nodes in Layer 2\n",
    "etha=.5 #Learning rate \n",
    "epoc=100 #number of epochs\n",
    "#alpha=2\n",
    "w=np.array((np.random.rand(nl2,nl1)))\n",
    "h=np.array((np.random.rand(nl1,1),np.random.rand(nl2,1)))\n",
    "b=np.random.rand(nl2,1) #initialize weights, neurons, and bias matrix\n",
    "print('pesos iniciales',w)\n",
    "print('bias inicial',b)\n",
    "#Determine training matrix \n",
    "Dw=np.array(np.random.rand(1,2))\n",
    "y=np.array(.71) #Determine the \"correct answer\"\n",
    "h[0][0]=5 \n",
    "h[0][1]=2 #Determine inputs\n",
    "costo=[]\n",
    "pesos=[]\n",
    "for e in range(epoc):\n",
    " #etha=etha*(np.exp(-alpha*e))   #use it carefully for a variable learning rate\n",
    " #z=w.dot(h[0])+b \n",
    " pesos.append(w[0])\n",
    " z=w.dot(h[0])\n",
    " h[1]=sigmoid(z)#without bias\n",
    " C=cost(y,h[1])\n",
    " #C=(y-h[1])**2\n",
    " Dw=np.transpose(dC(y,h[1])*dh(z)*dz(h[0]))\n",
    " Db=dC(y,h[1])*dh(z)\n",
    " w=w-(etha*Dw)\n",
    " b=b-(etha*Db)\n",
    " print('costo',C)\n",
    " if C==0:\n",
    "    print('break in epoch',e)\n",
    "    break\n",
    " costo.append(C[0])\n",
    "# pesos.append(w[0])"
   ]
  },
  {
   "cell_type": "code",
   "execution_count": 43,
   "metadata": {},
   "outputs": [
    {
     "data": {
      "text/plain": [
       "<matplotlib.axes._subplots.AxesSubplot at 0x1787d421788>"
      ]
     },
     "execution_count": 43,
     "metadata": {},
     "output_type": "execute_result"
    },
    {
     "data": {
      "image/png": "[encoded data removed]",
      "text/plain": [
       "<Figure size 432x288 with 1 Axes>"
      ]
     },
     "metadata": {
      "needs_background": "light"
     },
     "output_type": "display_data"
    }
   ],
   "source": [
    "costo1=pd.DataFrame(costo)\n",
    "costo1.plot()"
   ]
  },
  {
   "cell_type": "code",
   "execution_count": 44,
   "metadata": {},
   "outputs": [
    {
     "data": {
      "text/plain": [
       "0     0.559683\n",
       "1     0.558333\n",
       "2     0.556957\n",
       "3     0.555553\n",
       "4     0.554120\n",
       "        ...   \n",
       "95    0.204197\n",
       "96    0.204197\n",
       "97    0.204197\n",
       "98    0.204197\n",
       "99    0.204197\n",
       "Name: 1, Length: 100, dtype: float64"
      ]
     },
     "execution_count": 44,
     "metadata": {},
     "output_type": "execute_result"
    }
   ],
   "source": [
    "pesos1=pd.DataFrame(pesos)\n",
    "pesos1[1]"
   ]
  },
  {
   "cell_type": "markdown",
   "metadata": {},
   "source": [
    "# Implementation"
   ]
  },
  {
   "cell_type": "code",
   "execution_count": 45,
   "metadata": {},
   "outputs": [
    {
     "data": {
      "text/plain": [
       "array([[0.43612766]])"
      ]
     },
     "execution_count": 45,
     "metadata": {},
     "output_type": "execute_result"
    }
   ],
   "source": [
    "b #perfect[[-0.06502874]]"
   ]
  },
  {
   "cell_type": "code",
   "execution_count": 46,
   "metadata": {},
   "outputs": [
    {
     "data": {
      "text/plain": [
       "array([[0.09739798, 0.20419707]])"
      ]
     },
     "execution_count": 46,
     "metadata": {},
     "output_type": "execute_result"
    }
   ],
   "source": [
    "w #perfect weight with bias [[0.15726836,0.08703549]] perfect weights without bias [[0.09533541,0.20935351]]"
   ]
  },
  {
   "cell_type": "code",
   "execution_count": 47,
   "metadata": {},
   "outputs": [
    {
     "data": {
      "text/plain": [
       "array([[0.71]])"
      ]
     },
     "execution_count": 47,
     "metadata": {},
     "output_type": "execute_result"
    }
   ],
   "source": [
    "h[0][0]=5\n",
    "h[0][1]=2\n",
    "bs=sigmoid(w.dot(h[0])+b[0,0]) #con bias\n",
    "sbs=sigmoid(w.dot(h[0]))#sin bias\n",
    "sbs"
   ]
  },
  {
   "cell_type": "code",
   "execution_count": 48,
   "metadata": {},
   "outputs": [],
   "source": [
    "#Using Keras"
   ]
  },
  {
   "cell_type": "code",
   "execution_count": 49,
   "metadata": {},
   "outputs": [],
   "source": [
    "import tensorflow as tf #1st part\n",
    "from tensorflow  import keras #2d part of a CNN\n",
    "from tensorflow.keras import layers\n",
    "from tensorflow.keras.datasets import mnist\n",
    "import numpy as np"
   ]
  },
  {
   "cell_type": "code",
   "execution_count": 50,
   "metadata": {},
   "outputs": [],
   "source": [
    "x_train=np.array([[5,2]])\n",
    "y_train=np.array([[.71]])\n",
    "x_test=x_train\n",
    "y_test=y_train"
   ]
  },
  {
   "cell_type": "code",
   "execution_count": 51,
   "metadata": {},
   "outputs": [
    {
     "name": "stdout",
     "output_type": "stream",
     "text": [
      "Train on 1 samples\n",
      "Epoch 1/100\n",
      "1/1 - 0s - loss: 0.0138 - accuracy: 0.0000e+00\n",
      "Epoch 2/100\n",
      "1/1 - 0s - loss: 0.0011 - accuracy: 0.0000e+00\n",
      "Epoch 3/100\n",
      "1/1 - 0s - loss: 2.2256e-05 - accuracy: 0.0000e+00\n",
      "Epoch 4/100\n",
      "1/1 - 0s - loss: 1.8498e-06 - accuracy: 0.0000e+00\n",
      "Epoch 5/100\n",
      "1/1 - 0s - loss: 1.3189e-07 - accuracy: 0.0000e+00\n",
      "Epoch 6/100\n",
      "1/1 - 0s - loss: 9.8489e-09 - accuracy: 0.0000e+00\n",
      "Epoch 7/100\n",
      "1/1 - 0s - loss: 7.2583e-10 - accuracy: 0.0000e+00\n",
      "Epoch 8/100\n",
      "1/1 - 0s - loss: 5.2879e-11 - accuracy: 0.0000e+00\n",
      "Epoch 9/100\n",
      "1/1 - 0s - loss: 3.8689e-12 - accuracy: 0.0000e+00\n",
      "Epoch 10/100\n",
      "1/1 - 0s - loss: 2.8777e-13 - accuracy: 0.0000e+00\n",
      "Epoch 11/100\n",
      "1/1 - 0s - loss: 3.1974e-14 - accuracy: 0.0000e+00\n",
      "Epoch 12/100\n",
      "1/1 - 0s - loss: 3.5527e-15 - accuracy: 0.0000e+00\n",
      "Epoch 13/100\n",
      "1/1 - 0s - loss: 0.0000e+00 - accuracy: 0.0000e+00\n",
      "Epoch 14/100\n",
      "1/1 - 0s - loss: 0.0000e+00 - accuracy: 0.0000e+00\n",
      "Epoch 15/100\n",
      "1/1 - 0s - loss: 0.0000e+00 - accuracy: 0.0000e+00\n",
      "Epoch 16/100\n",
      "1/1 - 0s - loss: 0.0000e+00 - accuracy: 0.0000e+00\n",
      "Epoch 17/100\n",
      "1/1 - 0s - loss: 0.0000e+00 - accuracy: 0.0000e+00\n",
      "Epoch 18/100\n",
      "1/1 - 0s - loss: 0.0000e+00 - accuracy: 0.0000e+00\n",
      "Epoch 19/100\n",
      "1/1 - 0s - loss: 0.0000e+00 - accuracy: 0.0000e+00\n",
      "Epoch 20/100\n",
      "1/1 - 0s - loss: 0.0000e+00 - accuracy: 0.0000e+00\n",
      "Epoch 21/100\n",
      "1/1 - 0s - loss: 0.0000e+00 - accuracy: 0.0000e+00\n",
      "Epoch 22/100\n",
      "1/1 - 0s - loss: 0.0000e+00 - accuracy: 0.0000e+00\n",
      "Epoch 23/100\n",
      "1/1 - 0s - loss: 0.0000e+00 - accuracy: 0.0000e+00\n",
      "Epoch 24/100\n",
      "1/1 - 0s - loss: 0.0000e+00 - accuracy: 0.0000e+00\n",
      "Epoch 25/100\n",
      "1/1 - 0s - loss: 0.0000e+00 - accuracy: 0.0000e+00\n",
      "Epoch 26/100\n",
      "1/1 - 0s - loss: 0.0000e+00 - accuracy: 0.0000e+00\n",
      "Epoch 27/100\n",
      "1/1 - 0s - loss: 0.0000e+00 - accuracy: 0.0000e+00\n",
      "Epoch 28/100\n",
      "1/1 - 0s - loss: 0.0000e+00 - accuracy: 0.0000e+00\n",
      "Epoch 29/100\n",
      "1/1 - 0s - loss: 0.0000e+00 - accuracy: 0.0000e+00\n",
      "Epoch 30/100\n",
      "1/1 - 0s - loss: 0.0000e+00 - accuracy: 0.0000e+00\n",
      "Epoch 31/100\n",
      "1/1 - 0s - loss: 0.0000e+00 - accuracy: 0.0000e+00\n",
      "Epoch 32/100\n",
      "1/1 - 0s - loss: 0.0000e+00 - accuracy: 0.0000e+00\n",
      "Epoch 33/100\n",
      "1/1 - 0s - loss: 0.0000e+00 - accuracy: 0.0000e+00\n",
      "Epoch 34/100\n",
      "1/1 - 0s - loss: 0.0000e+00 - accuracy: 0.0000e+00\n",
      "Epoch 35/100\n",
      "1/1 - 0s - loss: 0.0000e+00 - accuracy: 0.0000e+00\n",
      "Epoch 36/100\n",
      "1/1 - 0s - loss: 0.0000e+00 - accuracy: 0.0000e+00\n",
      "Epoch 37/100\n",
      "1/1 - 0s - loss: 0.0000e+00 - accuracy: 0.0000e+00\n",
      "Epoch 38/100\n",
      "1/1 - 0s - loss: 0.0000e+00 - accuracy: 0.0000e+00\n",
      "Epoch 39/100\n",
      "1/1 - 0s - loss: 0.0000e+00 - accuracy: 0.0000e+00\n",
      "Epoch 40/100\n",
      "1/1 - 0s - loss: 0.0000e+00 - accuracy: 0.0000e+00\n",
      "Epoch 41/100\n",
      "1/1 - 0s - loss: 0.0000e+00 - accuracy: 0.0000e+00\n",
      "Epoch 42/100\n",
      "1/1 - 0s - loss: 0.0000e+00 - accuracy: 0.0000e+00\n",
      "Epoch 43/100\n",
      "1/1 - 0s - loss: 0.0000e+00 - accuracy: 0.0000e+00\n",
      "Epoch 44/100\n",
      "1/1 - 0s - loss: 0.0000e+00 - accuracy: 0.0000e+00\n",
      "Epoch 45/100\n",
      "1/1 - 0s - loss: 0.0000e+00 - accuracy: 0.0000e+00\n",
      "Epoch 46/100\n",
      "1/1 - 0s - loss: 0.0000e+00 - accuracy: 0.0000e+00\n",
      "Epoch 47/100\n",
      "1/1 - 0s - loss: 0.0000e+00 - accuracy: 0.0000e+00\n",
      "Epoch 48/100\n",
      "1/1 - 0s - loss: 0.0000e+00 - accuracy: 0.0000e+00\n",
      "Epoch 49/100\n",
      "1/1 - 0s - loss: 0.0000e+00 - accuracy: 0.0000e+00\n",
      "Epoch 50/100\n",
      "1/1 - 0s - loss: 0.0000e+00 - accuracy: 0.0000e+00\n",
      "Epoch 51/100\n",
      "1/1 - 0s - loss: 0.0000e+00 - accuracy: 0.0000e+00\n",
      "Epoch 52/100\n",
      "1/1 - 0s - loss: 0.0000e+00 - accuracy: 0.0000e+00\n",
      "Epoch 53/100\n",
      "1/1 - 0s - loss: 0.0000e+00 - accuracy: 0.0000e+00\n",
      "Epoch 54/100\n",
      "1/1 - 0s - loss: 0.0000e+00 - accuracy: 0.0000e+00\n",
      "Epoch 55/100\n",
      "1/1 - 0s - loss: 0.0000e+00 - accuracy: 0.0000e+00\n",
      "Epoch 56/100\n",
      "1/1 - 0s - loss: 0.0000e+00 - accuracy: 0.0000e+00\n",
      "Epoch 57/100\n",
      "1/1 - 0s - loss: 0.0000e+00 - accuracy: 0.0000e+00\n",
      "Epoch 58/100\n",
      "1/1 - 0s - loss: 0.0000e+00 - accuracy: 0.0000e+00\n",
      "Epoch 59/100\n",
      "1/1 - 0s - loss: 0.0000e+00 - accuracy: 0.0000e+00\n",
      "Epoch 60/100\n",
      "1/1 - 0s - loss: 0.0000e+00 - accuracy: 0.0000e+00\n",
      "Epoch 61/100\n",
      "1/1 - 0s - loss: 0.0000e+00 - accuracy: 0.0000e+00\n",
      "Epoch 62/100\n",
      "1/1 - 0s - loss: 0.0000e+00 - accuracy: 0.0000e+00\n",
      "Epoch 63/100\n",
      "1/1 - 0s - loss: 0.0000e+00 - accuracy: 0.0000e+00\n",
      "Epoch 64/100\n",
      "1/1 - 0s - loss: 0.0000e+00 - accuracy: 0.0000e+00\n",
      "Epoch 65/100\n",
      "1/1 - 0s - loss: 0.0000e+00 - accuracy: 0.0000e+00\n",
      "Epoch 66/100\n",
      "1/1 - 0s - loss: 0.0000e+00 - accuracy: 0.0000e+00\n",
      "Epoch 67/100\n",
      "1/1 - 0s - loss: 0.0000e+00 - accuracy: 0.0000e+00\n",
      "Epoch 68/100\n",
      "1/1 - 0s - loss: 0.0000e+00 - accuracy: 0.0000e+00\n",
      "Epoch 69/100\n",
      "1/1 - 0s - loss: 0.0000e+00 - accuracy: 0.0000e+00\n",
      "Epoch 70/100\n",
      "1/1 - 0s - loss: 0.0000e+00 - accuracy: 0.0000e+00\n",
      "Epoch 71/100\n",
      "1/1 - 0s - loss: 0.0000e+00 - accuracy: 0.0000e+00\n",
      "Epoch 72/100\n",
      "1/1 - 0s - loss: 0.0000e+00 - accuracy: 0.0000e+00\n",
      "Epoch 73/100\n",
      "1/1 - 0s - loss: 0.0000e+00 - accuracy: 0.0000e+00\n",
      "Epoch 74/100\n",
      "1/1 - 0s - loss: 0.0000e+00 - accuracy: 0.0000e+00\n",
      "Epoch 75/100\n",
      "1/1 - 0s - loss: 0.0000e+00 - accuracy: 0.0000e+00\n",
      "Epoch 76/100\n",
      "1/1 - 0s - loss: 0.0000e+00 - accuracy: 0.0000e+00\n",
      "Epoch 77/100\n",
      "1/1 - 0s - loss: 0.0000e+00 - accuracy: 0.0000e+00\n",
      "Epoch 78/100\n",
      "1/1 - 0s - loss: 0.0000e+00 - accuracy: 0.0000e+00\n",
      "Epoch 79/100\n",
      "1/1 - 0s - loss: 0.0000e+00 - accuracy: 0.0000e+00\n",
      "Epoch 80/100\n",
      "1/1 - 0s - loss: 0.0000e+00 - accuracy: 0.0000e+00\n",
      "Epoch 81/100\n",
      "1/1 - 0s - loss: 0.0000e+00 - accuracy: 0.0000e+00\n",
      "Epoch 82/100\n",
      "1/1 - 0s - loss: 0.0000e+00 - accuracy: 0.0000e+00\n",
      "Epoch 83/100\n",
      "1/1 - 0s - loss: 0.0000e+00 - accuracy: 0.0000e+00\n",
      "Epoch 84/100\n",
      "1/1 - 0s - loss: 0.0000e+00 - accuracy: 0.0000e+00\n",
      "Epoch 85/100\n",
      "1/1 - 0s - loss: 0.0000e+00 - accuracy: 0.0000e+00\n",
      "Epoch 86/100\n",
      "1/1 - 0s - loss: 0.0000e+00 - accuracy: 0.0000e+00\n",
      "Epoch 87/100\n",
      "1/1 - 0s - loss: 0.0000e+00 - accuracy: 0.0000e+00\n",
      "Epoch 88/100\n",
      "1/1 - 0s - loss: 0.0000e+00 - accuracy: 0.0000e+00\n",
      "Epoch 89/100\n",
      "1/1 - 0s - loss: 0.0000e+00 - accuracy: 0.0000e+00\n",
      "Epoch 90/100\n",
      "1/1 - 0s - loss: 0.0000e+00 - accuracy: 0.0000e+00\n",
      "Epoch 91/100\n",
      "1/1 - 0s - loss: 0.0000e+00 - accuracy: 0.0000e+00\n",
      "Epoch 92/100\n",
      "1/1 - 0s - loss: 0.0000e+00 - accuracy: 0.0000e+00\n",
      "Epoch 93/100\n",
      "1/1 - 0s - loss: 0.0000e+00 - accuracy: 0.0000e+00\n",
      "Epoch 94/100\n",
      "1/1 - 0s - loss: 0.0000e+00 - accuracy: 0.0000e+00\n",
      "Epoch 95/100\n",
      "1/1 - 0s - loss: 0.0000e+00 - accuracy: 0.0000e+00\n",
      "Epoch 96/100\n",
      "1/1 - 0s - loss: 0.0000e+00 - accuracy: 0.0000e+00\n",
      "Epoch 97/100\n",
      "1/1 - 0s - loss: 0.0000e+00 - accuracy: 0.0000e+00\n",
      "Epoch 98/100\n",
      "1/1 - 0s - loss: 0.0000e+00 - accuracy: 0.0000e+00\n",
      "Epoch 99/100\n",
      "1/1 - 0s - loss: 0.0000e+00 - accuracy: 0.0000e+00\n",
      "Epoch 100/100\n",
      "1/1 - 0s - loss: 0.0000e+00 - accuracy: 0.0000e+00\n",
      "Model: \"sequential_1\"\n",
      "_________________________________________________________________\n",
      "Layer (type)                 Output Shape              Param #   \n",
      "=================================================================\n",
      "dense_1 (Dense)              (None, 1)                 3         \n",
      "=================================================================\n",
      "Total params: 3\n",
      "Trainable params: 3\n",
      "Non-trainable params: 0\n",
      "_________________________________________________________________\n",
      "2\n",
      "[<tf.Variable 'dense_1/kernel:0' shape=(2, 1) dtype=float32, numpy=\n",
      "array([[-0.11373878],\n",
      "       [ 0.7432451 ]], dtype=float32)>, <tf.Variable 'dense_1/bias:0' shape=(1,) dtype=float32, numpy=array([-0.0224124], dtype=float32)>]\n"
     ]
    }
   ],
   "source": [
    "model=keras.Sequential()\n",
    "model.add(keras.Input(shape=2))\n",
    "model.add(layers.Dense(1,activation='sigmoid'))\n",
    "#print(model.summary())\n",
    "model.compile(loss=\"MSE\",optimizer=keras.optimizers.SGD(lr=.5),metrics=['accuracy'],)\n",
    "model.fit(x_train,y_train,epochs=100,verbose=2)\n",
    "#model.evaluate(x_test,y_test,verbose=1)\n",
    "model.summary()\n",
    "print(len(model.weights))\n",
    "print(model.weights)"
   ]
  },
  {
   "cell_type": "code",
   "execution_count": 52,
   "metadata": {},
   "outputs": [
    {
     "data": {
      "text/plain": [
       "[<tf.Variable 'dense_1/kernel:0' shape=(2, 1) dtype=float32, numpy=\n",
       " array([[-0.11373878],\n",
       "        [ 0.7432451 ]], dtype=float32)>,\n",
       " <tf.Variable 'dense_1/bias:0' shape=(1,) dtype=float32, numpy=array([-0.0224124], dtype=float32)>]"
      ]
     },
     "execution_count": 52,
     "metadata": {},
     "output_type": "execute_result"
    }
   ],
   "source": [
    "model.weights"
   ]
  },
  {
   "cell_type": "code",
   "execution_count": 53,
   "metadata": {},
   "outputs": [
    {
     "data": {
      "text/plain": [
       "array([[0.71]], dtype=float32)"
      ]
     },
     "execution_count": 53,
     "metadata": {},
     "output_type": "execute_result"
    }
   ],
   "source": [
    "model.predict(x_train)"
   ]
  },
  {
   "cell_type": "markdown",
   "metadata": {},
   "source": [
    "# Weight valley system  visualization"
   ]
  },
  {
   "cell_type": "code",
   "execution_count": 54,
   "metadata": {},
   "outputs": [],
   "source": [
    "%matplotlib inline\n",
    "from ipywidgets import interactive\n",
    "import matplotlib.pyplot as plt\n",
    "from mpl_toolkits.mplot3d import Axes3D"
   ]
  },
  {
   "cell_type": "code",
   "execution_count": 69,
   "metadata": {},
   "outputs": [
    {
     "data": {
      "application/vnd.jupyter.widget-view+json": {
       "model_id": "1c9b09fb0674478f8f9583bffc46384f",
       "version_major": 2,
       "version_minor": 0
      },
      "text/plain": [
       "interactive(children=(IntSlider(value=45, description='height', max=90), IntSlider(value=50, description='azim…"
      ]
     },
     "metadata": {},
     "output_type": "display_data"
    }
   ],
   "source": [
    "\n",
    "def z(w1,w2,y):\n",
    " return (y-(sigmoid(w1*h[0][0]+w2*h[0][1])))**2\n",
    "y=.71\n",
    "def f(height,azimuth):\n",
    " fig= plt.figure()\n",
    " ax =Axes3D(fig)\n",
    " w1=np.linspace(-1,1,100)\n",
    " w2=np.linspace(-1,1,100)\n",
    " w1, w2 =np.meshgrid(w1,w2)\n",
    " ax.plot_surface(w1, w2, z(w1,w2,y),cmap='cividis')\n",
    " ax.scatter3D(pesos1[0],pesos1[1],z(pesos1[0],pesos1[1],y),c='r')\n",
    " ax.plot3D(pesos1[0],pesos1[1],z(pesos1[0],pesos1[1],y),c='r')\n",
    " ax.set_xlabel('w1')\n",
    " ax.set_ylabel('w2')\n",
    " ax.set_zlabel('c')\n",
    " ax.view_init(height,azimuth)\n",
    " plt.show()\n",
    "    #plt.figure(2)\n",
    "    #x = np.linspace(-10, 10, num=1000)\n",
    "    #plt.plot(x, m * x + b)\n",
    "    #plt.ylim(-5, 5)\n",
    "    #plt.show()\n",
    "\n",
    "interactive_plot = interactive(f, height=(0, 90), azimuth=(0, 100, 1))\n",
    "output = interactive_plot.children[-1]\n",
    "output.layout.height = '350px'\n",
    "interactive_plot\n",
    "#Usually can be seen nice with height=20 and azimuth=80"
   ]
  },
  {
   "cell_type": "code",
   "execution_count": 70,
   "metadata": {},
   "outputs": [
    {
     "data": {
      "application/vnd.jupyter.widget-view+json": {
       "model_id": "05f63b5624a547f9adf422bb2af41930",
       "version_major": 2,
       "version_minor": 0
      },
      "text/plain": [
       "interactive(children=(IntSlider(value=0, description='height', max=90, min=-90, step=5), IntSlider(value=80, d…"
      ]
     },
     "metadata": {},
     "output_type": "display_data"
    }
   ],
   "source": [
    "def f(height,azimuth):\n",
    " fig= plt.figure()\n",
    " ax =Axes3D(fig)\n",
    " w1=np.linspace(pesos1[0][0],pesos1[0][len(pesos1)-1],100)\n",
    " w2=np.linspace(pesos1[1][0],pesos1[1][len(pesos1)-1],100)\n",
    " w1, w2 =np.meshgrid(w1,w2)\n",
    " ax.plot_surface(w1, w2, z(w1,w2,y),cmap='cividis')\n",
    " ax.scatter3D(pesos1[0],pesos1[1],z(pesos1[0],pesos1[1],y),c='r')\n",
    " ax.plot3D(pesos1[0],pesos1[1],z(pesos1[0],pesos1[1],y),c='r')\n",
    " ax.set_xlabel('w1')\n",
    " ax.set_ylabel('w2')\n",
    " ax.set_zlabel('c')\n",
    " ax.view_init(height,azimuth)\n",
    " plt.show()\n",
    "    #plt.figure(2)\n",
    "    #x = np.linspace(-10, 10, num=1000)\n",
    "    #plt.plot(x, m * x + b)\n",
    "    #plt.ylim(-5, 5)\n",
    "    #plt.show()\n",
    "\n",
    "interactive_plot = interactive(f, height=(-90, 90,5), azimuth=(-0, 160, 5))\n",
    "output = interactive_plot.children[-1]\n",
    "output.layout.height = '350px'\n",
    "interactive_plot\n",
    "#Usually can be seen nice with height=20 and azimuth=80"
   ]
  },
  {
   "cell_type": "code",
   "execution_count": 71,
   "metadata": {},
   "outputs": [
    {
     "data": {
      "application/vnd.jupyter.widget-view+json": {
       "model_id": "fd7f495f1b4a48d4940f2fef314724d6",
       "version_major": 2,
       "version_minor": 0
      },
      "text/plain": [
       "interactive(children=(IntSlider(value=40, description='altura', max=90, step=10), IntSlider(value=60, descript…"
      ]
     },
     "metadata": {},
     "output_type": "display_data"
    }
   ],
   "source": [
    "\n",
    "def f(altura,azimuth,rang1,rang2):\n",
    " fig= plt.figure()\n",
    " ax =Axes3D(fig)\n",
    " w1=np.linspace(rang1,rang2,100)\n",
    " w2=np.linspace(rang1,rang2,100)\n",
    " w1, w2 =np.meshgrid(w1,w2)\n",
    " ax.plot_surface(w1, w2, z(w1,w2,y),cmap='cividis')\n",
    " ax.scatter3D(pesos1[0],pesos1[1],z(pesos1[0],pesos1[1],y),c='r')\n",
    " ax.plot3D(pesos1[0],pesos1[1],z(pesos1[0],pesos1[1],y),c='r')\n",
    " ax.set_xlabel('w1')\n",
    " ax.set_ylabel('w2')\n",
    " ax.set_zlabel('c')\n",
    " ax.view_init(altura,azimuth)\n",
    " plt.show()\n",
    "    #plt.figure(2)\n",
    "    #x = np.linspace(-10, 10, num=1000)\n",
    "    #plt.plot(x, m * x + b)\n",
    "    #plt.ylim(-5, 5)\n",
    "    #plt.show()\n",
    "\n",
    "interactive_plot = interactive(f, altura=(0, 90,10), azimuth=(0, 120, 5),rang1=(-10,0,.1),rang2=(0,10,.1))\n",
    "output = interactive_plot.children[-1]\n",
    "output.layout.height = '350px'\n",
    "interactive_plot\n",
    "#w1=np.linspace(pesos1[0][0],pesos1[0][len(pesos1)-1],100)\n",
    "#w2=np.linspace(pesos1[1][0],pesos1[1][len(pesos1)-1],100)"
   ]
  },
  {
   "cell_type": "code",
   "execution_count": null,
   "metadata": {},
   "outputs": [],
   "source": []
  }
 ],
 "metadata": {
  "kernelspec": {
   "display_name": "Python 3",
   "language": "python",
   "name": "python3"
  },
  "language_info": {
   "codemirror_mode": {
    "name": "ipython",
    "version": 3
   },
   "file_extension": ".py",
   "mimetype": "text/x-python",
   "name": "python",
   "nbconvert_exporter": "python",
   "pygments_lexer": "ipython3",
   "version": "3.7.6"
  }
 },
 "nbformat": 4,
 "nbformat_minor": 2
}
