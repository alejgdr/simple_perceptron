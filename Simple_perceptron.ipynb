{
 "cells": [
  {
   "cell_type": "markdown",
   "metadata": {},
   "source": [
    "# Weighted sum"
   ]
  },
  {
   "cell_type": "code",
   "execution_count": 1,
   "metadata": {},
   "outputs": [],
   "source": [
    "import numpy as np\n",
    "import pandas as pd"
   ]
  },
  {
   "cell_type": "code",
   "execution_count": 2,
   "metadata": {},
   "outputs": [],
   "source": [
    "nl1=2 #no. of nodes of layer 1\n",
    "nl2=1 #no. of nodes of layer 2\n",
    "w=np.array((np.random.rand(nl2,nl1)))\n",
    "h=np.array((np.random.rand(nl1,1),np.random.rand(nl2,1)))"
   ]
  },
  {
   "cell_type": "code",
   "execution_count": 354,
   "metadata": {},
   "outputs": [
    {
     "data": {
      "text/plain": [
       "array([[0.14929583, 0.98560306]])"
      ]
     },
     "execution_count": 354,
     "metadata": {},
     "output_type": "execute_result"
    }
   ],
   "source": [
    "w"
   ]
  },
  {
   "cell_type": "code",
   "execution_count": 355,
   "metadata": {},
   "outputs": [
    {
     "data": {
      "text/plain": [
       "array([array([[0.6210334 ],\n",
       "       [0.71304314]]), array([[0.38694918]])], dtype=object)"
      ]
     },
     "execution_count": 355,
     "metadata": {},
     "output_type": "execute_result"
    }
   ],
   "source": [
    "h"
   ]
  },
  {
   "cell_type": "markdown",
   "metadata": {},
   "source": [
    "## bias"
   ]
  },
  {
   "cell_type": "code",
   "execution_count": 6,
   "metadata": {},
   "outputs": [
    {
     "data": {
      "text/plain": [
       "array([[0.61831244]])"
      ]
     },
     "execution_count": 6,
     "metadata": {},
     "output_type": "execute_result"
    }
   ],
   "source": [
    "b=np.random.rand(nl2,1)\n",
    "b"
   ]
  },
  {
   "cell_type": "markdown",
   "metadata": {},
   "source": [
    "# Inputs"
   ]
  },
  {
   "cell_type": "code",
   "execution_count": 7,
   "metadata": {},
   "outputs": [
    {
     "data": {
      "text/plain": [
       "array([[5.],\n",
       "       [2.]])"
      ]
     },
     "execution_count": 7,
     "metadata": {},
     "output_type": "execute_result"
    }
   ],
   "source": [
    "h[0][0]=5\n",
    "h[0][1]=2\n",
    "h[0]"
   ]
  },
  {
   "cell_type": "markdown",
   "metadata": {},
   "source": [
    "# Weighted sum (Feed forward)"
   ]
  },
  {
   "cell_type": "code",
   "execution_count": 8,
   "metadata": {},
   "outputs": [
    {
     "data": {
      "text/plain": [
       "array([[3.28621296]])"
      ]
     },
     "execution_count": 8,
     "metadata": {},
     "output_type": "execute_result"
    }
   ],
   "source": [
    "cbs=w.dot(h[0])+b[0,0] #with bias\n",
    "sbs=w.dot(h[0]) #withoout bias\n",
    "sbs"
   ]
  },
  {
   "cell_type": "markdown",
   "metadata": {},
   "source": [
    "### Sigmoid function"
   ]
  },
  {
   "cell_type": "code",
   "execution_count": 9,
   "metadata": {},
   "outputs": [],
   "source": [
    "def sigmoid(z):\n",
    " sigma=1/(1+np.exp(-z))\n",
    " return sigma\n",
    " "
   ]
  },
  {
   "cell_type": "markdown",
   "metadata": {},
   "source": [
    "##  Perceptron Feedforward"
   ]
  },
  {
   "cell_type": "code",
   "execution_count": 10,
   "metadata": {},
   "outputs": [
    {
     "name": "stdout",
     "output_type": "stream",
     "text": [
      "con bias[[0.98024751]]sin bias[[0.96395279]]\n"
     ]
    }
   ],
   "source": [
    "h[0][0]=5\n",
    "h[0][1]=2\n",
    "bs=sigmoid(w.dot(h[0])+b[0,0]) #with bias\n",
    "sbs=sigmoid(w.dot(h[0]))#without bias\n",
    "\n",
    "print('con bias'+str(bs)+'sin bias'+str(sbs))"
   ]
  },
  {
   "cell_type": "markdown",
   "metadata": {},
   "source": [
    "# Cost function"
   ]
  },
  {
   "cell_type": "code",
   "execution_count": 11,
   "metadata": {},
   "outputs": [],
   "source": [
    "def cost(y,h):\n",
    "    C=(y-h)**2\n",
    "    return C"
   ]
  },
  {
   "cell_type": "code",
   "execution_count": 12,
   "metadata": {},
   "outputs": [
    {
     "name": "stdout",
     "output_type": "stream",
     "text": [
      "costo con bias[[0.07303372]]costo sin bias[[0.06449202]]\n"
     ]
    }
   ],
   "source": [
    "y=.71\n",
    "Cb=cost(y,bs)\n",
    "Cbs=cost(y,sbs)\n",
    "#Cb=(y-bs)**2\n",
    "#Cbs=(y-sbs)**2\n",
    "print('costo con bias'+str(Cb)+'costo sin bias'+str(Cbs))"
   ]
  },
  {
   "cell_type": "markdown",
   "metadata": {},
   "source": [
    "# Backpropagation"
   ]
  },
  {
   "cell_type": "markdown",
   "metadata": {},
   "source": [
    "## defining the gradient descents derivates"
   ]
  },
  {
   "cell_type": "code",
   "execution_count": 13,
   "metadata": {},
   "outputs": [],
   "source": [
    "def dC(y,h): #dC/dh\n",
    " dcdh=-2*(y-h)\n",
    " return dcdh\n",
    "def dh(z): #dh/dz\n",
    " dhdz=sigmoid(z)*(1-sigmoid(z))\n",
    " return dhdz\n",
    "def dz(h): #dz/dw\n",
    " dzdw=h\n",
    " return dzdw"
   ]
  },
  {
   "cell_type": "code",
   "execution_count": null,
   "metadata": {},
   "outputs": [],
   "source": [
    "#Training our perceptron"
   ]
  },
  {
   "cell_type": "code",
   "execution_count": 364,
   "metadata": {},
   "outputs": [
    {
     "name": "stdout",
     "output_type": "stream",
     "text": [
      "pesos iniciales [[0.49939388 0.11720494]]\n",
      "bias inicial [[0.01985261]]\n",
      "costo [[0.05237373]]\n",
      "costo [[0.05032371]]\n",
      "costo [[0.04807403]]\n",
      "costo [[0.0456084]]\n",
      "costo [[0.04291313]]\n",
      "costo [[0.03997956]]\n",
      "costo [[0.03680749]]\n",
      "costo [[0.03340963]]\n",
      "costo [[0.0298167]]\n",
      "costo [[0.0260825]]\n",
      "costo [[0.02228713]]\n",
      "costo [[0.01853619]]\n",
      "costo [[0.01495338]]\n",
      "costo [[0.01166542]]\n",
      "costo [[0.00878143]]\n",
      "costo [[0.00637269]]\n",
      "costo [[0.00446043]]\n",
      "costo [[0.00301674]]\n",
      "costo [[0.00197747]]\n",
      "costo [[0.00126102]]\n",
      "costo [[0.00078547]]\n",
      "costo [[0.00047981]]\n",
      "costo [[0.00028848]]\n",
      "costo [[0.00017127]]\n",
      "costo [[0.00010067]]\n",
      "costo [[5.87134699e-05]]\n",
      "costo [[3.40387247e-05]]\n",
      "costo [[1.96427713e-05]]\n",
      "costo [[1.12952983e-05]]\n",
      "costo [[6.47773114e-06]]\n",
      "costo [[3.70730939e-06]]\n",
      "costo [[2.11845867e-06]]\n",
      "costo [[1.20912158e-06]]\n",
      "costo [[6.89498156e-07]]\n",
      "costo [[3.92919662e-07]]\n",
      "costo [[2.23796563e-07]]\n",
      "costo [[1.27419576e-07]]\n",
      "costo [[7.25258599e-08]]\n",
      "costo [[4.12719048e-08]]\n",
      "costo [[2.34825023e-08]]\n",
      "costo [[1.33591888e-08]]\n",
      "costo [[7.5993239e-09]]\n",
      "costo [[4.32253992e-09]]\n",
      "costo [[2.45855444e-09]]\n",
      "costo [[1.39830889e-09]]\n",
      "costo [[7.95267411e-10]]\n",
      "costo [[4.52286146e-10]]\n",
      "costo [[2.5722067e-10]]\n",
      "costo [[1.46282635e-10]]\n",
      "costo [[8.31908203e-11]]\n",
      "costo [[4.73102033e-11]]\n",
      "costo [[2.69049253e-11]]\n",
      "costo [[1.53005461e-11]]\n",
      "costo [[8.70123086e-12]]\n",
      "costo [[4.94827022e-12]]\n",
      "costo [[2.81400806e-12]]\n",
      "costo [[1.60028256e-12]]\n",
      "costo [[9.10054837e-13]]\n",
      "costo [[5.17533079e-13]]\n",
      "costo [[2.94312299e-13]]\n",
      "costo [[1.67370347e-13]]\n",
      "costo [[9.51806086e-14]]\n",
      "costo [[5.4127545e-14]]\n",
      "costo [[3.07813809e-14]]\n",
      "costo [[1.75048263e-14]]\n",
      "costo [[9.95468374e-15]]\n",
      "costo [[5.66105134e-15]]\n",
      "costo [[3.21933885e-15]]\n",
      "costo [[1.83078046e-15]]\n",
      "costo [[1.04113209e-15]]\n",
      "costo [[5.92073172e-16]]\n",
      "costo [[3.36701405e-16]]\n",
      "costo [[1.91476051e-16]]\n",
      "costo [[1.08888997e-16]]\n",
      "costo [[6.19232194e-17]]\n",
      "costo [[3.52146245e-17]]\n",
      "costo [[2.00259244e-17]]\n",
      "costo [[1.13883833e-17]]\n",
      "costo [[6.47636944e-18]]\n",
      "costo [[3.68299505e-18]]\n",
      "costo [[2.09445315e-18]]\n",
      "costo [[1.1910778e-18]]\n",
      "costo [[6.77344718e-19]]\n",
      "costo [[3.85193714e-19]]\n",
      "costo [[2.1905276e-19]]\n",
      "costo [[1.24571353e-19]]\n",
      "costo [[7.08414911e-20]]\n",
      "costo [[4.02862885e-20]]\n",
      "costo [[2.29100956e-20]]\n",
      "costo [[1.30285549e-20]]\n",
      "costo [[7.40912206e-21]]\n",
      "costo [[4.21341903e-21]]\n",
      "costo [[2.39609811e-21]]\n",
      "costo [[1.36262083e-21]]\n",
      "costo [[7.74896062e-22]]\n",
      "costo [[4.40672796e-22]]\n",
      "costo [[2.50599571e-22]]\n",
      "costo [[1.42510689e-22]]\n",
      "costo [[8.10423851e-23]]\n",
      "costo [[4.60892009e-23]]\n"
     ]
    }
   ],
   "source": [
    "nl1=2 #nodes in Layer 1\n",
    "nl2=1 #nodes in Layer 2\n",
    "etha=.1 #Learning rate \n",
    "epoc=100 #number of epochs\n",
    "#alpha=2\n",
    "w=np.array((np.random.rand(nl2,nl1)))\n",
    "h=np.array((np.random.rand(nl1,1),np.random.rand(nl2,1)))\n",
    "b=np.random.rand(nl2,1) #initialize weights, neurons, and bias matrix\n",
    "print('pesos iniciales',w)\n",
    "print('bias inicial',b)\n",
    "#Determine training matrix \n",
    "Dw=np.array(np.random.rand(1,2))\n",
    "y=np.array(.71) #Determine the \"correct answer\"\n",
    "h[0][0]=5 \n",
    "h[0][1]=2 #Determine inputs\n",
    "costo=[]\n",
    "pesos=[]\n",
    "for e in range(epoc):\n",
    " #etha=etha*(np.exp(-alpha*e))   #use it carefully for a variable learning rate\n",
    " #z=w.dot(h[0])+b \n",
    " pesos.append(w[0])\n",
    " z=w.dot(h[0])\n",
    " h[1]=sigmoid(z)#without bias\n",
    " C=cost(y,h[1])\n",
    " #C=(y-h[1])**2\n",
    " Dw=np.transpose(dC(y,h[1])*dh(z)*dz(h[0]))\n",
    " Db=dC(y,h[1])*dh(z)\n",
    " w=w-(etha*Dw)\n",
    " b=b-(etha*Db)\n",
    " print('costo',C)\n",
    " if C==0:\n",
    "    print('break in epoch',e)\n",
    "    break\n",
    " costo.append(C[0])\n",
    "# pesos.append(w[0])"
   ]
  },
  {
   "cell_type": "code",
   "execution_count": 365,
   "metadata": {},
   "outputs": [
    {
     "data": {
      "text/plain": [
       "<matplotlib.axes._subplots.AxesSubplot at 0x29692687088>"
      ]
     },
     "execution_count": 365,
     "metadata": {},
     "output_type": "execute_result"
    },
    {
     "data": {
      "image/png": "[encoded data removed]",
      "text/plain": [
       "<Figure size 432x288 with 1 Axes>"
      ]
     },
     "metadata": {
      "needs_background": "light"
     },
     "output_type": "display_data"
    }
   ],
   "source": [
    "costo1=pd.DataFrame(costo)\n",
    "costo1.plot()"
   ]
  },
  {
   "cell_type": "code",
   "execution_count": 366,
   "metadata": {},
   "outputs": [
    {
     "data": {
      "text/plain": [
       "0     0.117205\n",
       "1     0.111950\n",
       "2     0.106444\n",
       "3     0.100679\n",
       "4     0.094648\n",
       "        ...   \n",
       "95   -0.009415\n",
       "96   -0.009415\n",
       "97   -0.009415\n",
       "98   -0.009415\n",
       "99   -0.009415\n",
       "Name: 1, Length: 100, dtype: float64"
      ]
     },
     "execution_count": 366,
     "metadata": {},
     "output_type": "execute_result"
    }
   ],
   "source": [
    "pesos1=pd.DataFrame(pesos)\n",
    "pesos1[1]"
   ]
  },
  {
   "cell_type": "markdown",
   "metadata": {},
   "source": [
    "# Implementation"
   ]
  },
  {
   "cell_type": "code",
   "execution_count": 367,
   "metadata": {},
   "outputs": [
    {
     "data": {
      "text/plain": [
       "array([[-0.04345757]])"
      ]
     },
     "execution_count": 367,
     "metadata": {},
     "output_type": "execute_result"
    }
   ],
   "source": [
    "b #perfect[[-0.06502874]]"
   ]
  },
  {
   "cell_type": "code",
   "execution_count": 368,
   "metadata": {},
   "outputs": [
    {
     "data": {
      "text/plain": [
       "array([[ 0.18284298, -0.00941542]])"
      ]
     },
     "execution_count": 368,
     "metadata": {},
     "output_type": "execute_result"
    }
   ],
   "source": [
    "w #perfect weight with bias [[0.15726836,0.08703549]] perfect weights without bias [[0.09533541,0.20935351]]"
   ]
  },
  {
   "cell_type": "code",
   "execution_count": 369,
   "metadata": {},
   "outputs": [
    {
     "data": {
      "text/plain": [
       "array([[0.71]])"
      ]
     },
     "execution_count": 369,
     "metadata": {},
     "output_type": "execute_result"
    }
   ],
   "source": [
    "h[0][0]=5\n",
    "h[0][1]=2\n",
    "bs=sigmoid(w.dot(h[0])+b[0,0]) #con bias\n",
    "sbs=sigmoid(w.dot(h[0]))#sin bias\n",
    "sbs"
   ]
  },
  {
   "cell_type": "markdown",
   "metadata": {},
   "source": [
    "# Weight valley system  visualization"
   ]
  },
  {
   "cell_type": "code",
   "execution_count": 370,
   "metadata": {},
   "outputs": [],
   "source": [
    "%matplotlib inline\n",
    "from ipywidgets import interactive\n",
    "import matplotlib.pyplot as plt\n",
    "from mpl_toolkits.mplot3d import Axes3D"
   ]
  },
  {
   "cell_type": "code",
   "execution_count": 371,
   "metadata": {},
   "outputs": [
    {
     "data": {
      "application/vnd.jupyter.widget-view+json": {
       "model_id": "29ac3091c0e4479bae84db900e9ac8a8",
       "version_major": 2,
       "version_minor": 0
      },
      "text/plain": [
       "interactive(children=(IntSlider(value=45, description='height', max=90), IntSlider(value=0, description='azimu…"
      ]
     },
     "metadata": {},
     "output_type": "display_data"
    }
   ],
   "source": [
    "\n",
    "def z(x,y):\n",
    " return (y-sigmoid(x*h[0][0]+y*h[0][1]))**2\n",
    "\n",
    "def f(height,azimuth):\n",
    " fig= plt.figure()\n",
    " ax =Axes3D(fig)\n",
    " w1=np.linspace(-1,1,100)\n",
    " w2=np.linspace(-1,1,100)\n",
    " w1, w2 =np.meshgrid(w1,w2)\n",
    " ax.plot_surface(w1, w2, z(w1,w2),cmap='viridis')\n",
    " ax.scatter3D(pesos1[0],pesos1[1],z(pesos1[0],pesos1[1]),c='r')\n",
    " ax.plot3D(pesos1[0],pesos1[1],z(pesos1[0],pesos1[1]),c='r')\n",
    " ax.set_xlabel('w1')\n",
    " ax.set_ylabel('w2')\n",
    " ax.set_zlabel('c')\n",
    " ax.view_init(height,azimuth)\n",
    " plt.show()\n",
    "    #plt.figure(2)\n",
    "    #x = np.linspace(-10, 10, num=1000)\n",
    "    #plt.plot(x, m * x + b)\n",
    "    #plt.ylim(-5, 5)\n",
    "    #plt.show()\n",
    "\n",
    "interactive_plot = interactive(f, height=(0, 90), azimuth=(-90, 90, 1))\n",
    "output = interactive_plot.children[-1]\n",
    "output.layout.height = '350px'\n",
    "interactive_plot\n",
    "#Usually can be seen nice with height=20 and azimuth=80"
   ]
  },
  {
   "cell_type": "code",
   "execution_count": 372,
   "metadata": {},
   "outputs": [
    {
     "data": {
      "application/vnd.jupyter.widget-view+json": {
       "model_id": "95f6334073284252b80c1152f37e454b",
       "version_major": 2,
       "version_minor": 0
      },
      "text/plain": [
       "interactive(children=(IntSlider(value=0, description='height', max=90, min=-90, step=10), IntSlider(value=0, d…"
      ]
     },
     "metadata": {},
     "output_type": "display_data"
    }
   ],
   "source": [
    "def f(height,azimuth):\n",
    " fig= plt.figure()\n",
    " ax =Axes3D(fig)\n",
    " w1=np.linspace(pesos1[0][0],pesos1[0][len(pesos1)-1],100)\n",
    " w2=np.linspace(pesos1[1][0],pesos1[1][len(pesos1)-1],100)\n",
    " w1, w2 =np.meshgrid(w1,w2)\n",
    " ax.plot_surface(w1, w2, z(w1,w2),cmap='viridis')\n",
    " ax.scatter3D(pesos1[0],pesos1[1],z(pesos1[0],pesos1[1]),c='r')\n",
    " ax.plot3D(pesos1[0],pesos1[1],z(pesos1[0],pesos1[1]),c='r')\n",
    " ax.set_xlabel('w1')\n",
    " ax.set_ylabel('w2')\n",
    " ax.set_zlabel('c')\n",
    " ax.view_init(height,azimuth)\n",
    " plt.show()\n",
    "    #plt.figure(2)\n",
    "    #x = np.linspace(-10, 10, num=1000)\n",
    "    #plt.plot(x, m * x + b)\n",
    "    #plt.ylim(-5, 5)\n",
    "    #plt.show()\n",
    "\n",
    "interactive_plot = interactive(f, height=(-90, 90,10), azimuth=(-90, 90, 5))\n",
    "output = interactive_plot.children[-1]\n",
    "output.layout.height = '350px'\n",
    "interactive_plot\n",
    "#Usually can be seen nice with height=20 and azimuth=80"
   ]
  },
  {
   "cell_type": "code",
   "execution_count": 373,
   "metadata": {},
   "outputs": [
    {
     "data": {
      "application/vnd.jupyter.widget-view+json": {
       "model_id": "2653fce609cc46158f429c645dec7d22",
       "version_major": 2,
       "version_minor": 0
      },
      "text/plain": [
       "interactive(children=(IntSlider(value=0, description='altura', max=90, min=-90, step=10), IntSlider(value=0, d…"
      ]
     },
     "metadata": {},
     "output_type": "display_data"
    }
   ],
   "source": [
    "\n",
    "def f(altura,azimuth,rang1,rang2):\n",
    " fig= plt.figure()\n",
    " ax =Axes3D(fig)\n",
    " w1=np.linspace(rang1,rang2,100)\n",
    " w2=np.linspace(rang1,rang2,100)\n",
    " w1, w2 =np.meshgrid(w1,w2)\n",
    " ax.plot_surface(w1, w2, z(w1,w2),cmap='viridis')\n",
    " ax.scatter3D(pesos1[0],pesos1[1],z(pesos1[0],pesos1[1]),c='r')\n",
    " ax.plot3D(pesos1[0],pesos1[1],z(pesos1[0],pesos1[1]),c='r')\n",
    " ax.set_xlabel('w1')\n",
    " ax.set_ylabel('w2')\n",
    " ax.set_zlabel('c')\n",
    " ax.view_init(altura,azimuth)\n",
    " plt.show()\n",
    "    #plt.figure(2)\n",
    "    #x = np.linspace(-10, 10, num=1000)\n",
    "    #plt.plot(x, m * x + b)\n",
    "    #plt.ylim(-5, 5)\n",
    "    #plt.show()\n",
    "\n",
    "interactive_plot = interactive(f, altura=(-90, 90,10), azimuth=(-90, 90, 5),rang1=(0,2,.1),rang2=(-2,0,.1))\n",
    "output = interactive_plot.children[-1]\n",
    "output.layout.height = '350px'\n",
    "interactive_plot\n",
    "#w1=np.linspace(pesos1[0][0],pesos1[0][len(pesos1)-1],100)\n",
    "#w2=np.linspace(pesos1[1][0],pesos1[1][len(pesos1)-1],100)"
   ]
  },
  {
   "cell_type": "code",
   "execution_count": null,
   "metadata": {},
   "outputs": [],
   "source": []
  }
 ],
 "metadata": {
  "kernelspec": {
   "display_name": "Python 3",
   "language": "python",
   "name": "python3"
  },
  "language_info": {
   "codemirror_mode": {
    "name": "ipython",
    "version": 3
   },
   "file_extension": ".py",
   "mimetype": "text/x-python",
   "name": "python",
   "nbconvert_exporter": "python",
   "pygments_lexer": "ipython3",
   "version": "3.7.6"
  }
 },
 "nbformat": 4,
 "nbformat_minor": 2
}
