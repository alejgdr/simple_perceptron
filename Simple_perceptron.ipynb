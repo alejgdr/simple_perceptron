{
 "cells": [
  {
   "cell_type": "markdown",
   "metadata": {},
   "source": [
    "# Weighted sum"
   ]
  },
  {
   "cell_type": "code",
   "execution_count": 23,
   "metadata": {},
   "outputs": [],
   "source": [
    "import numpy as np\n",
    "import pandas as pd\n",
    "import matplotlib.pyplot as plt"
   ]
  },
  {
   "cell_type": "code",
   "execution_count": 2,
   "metadata": {},
   "outputs": [],
   "source": [
    "nl1=2 #no. of nodes of layer 1\n",
    "nl2=1 #no. of nodes of layer 2\n",
    "w=np.array((np.random.rand(nl2,nl1)))\n",
    "h=np.array((np.random.rand(nl1,1),np.random.rand(nl2,1)))"
   ]
  },
  {
   "cell_type": "code",
   "execution_count": 3,
   "metadata": {},
   "outputs": [
    {
     "data": {
      "text/plain": [
       "array([[0.13396284, 0.10644458]])"
      ]
     },
     "execution_count": 3,
     "metadata": {},
     "output_type": "execute_result"
    }
   ],
   "source": [
    "w"
   ]
  },
  {
   "cell_type": "code",
   "execution_count": 4,
   "metadata": {},
   "outputs": [
    {
     "data": {
      "text/plain": [
       "array([array([[0.66198178],\n",
       "       [0.37715923]]), array([[0.43968854]])], dtype=object)"
      ]
     },
     "execution_count": 4,
     "metadata": {},
     "output_type": "execute_result"
    }
   ],
   "source": [
    "h"
   ]
  },
  {
   "cell_type": "markdown",
   "metadata": {},
   "source": [
    "## bias"
   ]
  },
  {
   "cell_type": "code",
   "execution_count": 5,
   "metadata": {},
   "outputs": [
    {
     "data": {
      "text/plain": [
       "array([[0.80582827]])"
      ]
     },
     "execution_count": 5,
     "metadata": {},
     "output_type": "execute_result"
    }
   ],
   "source": [
    "b=np.random.rand(nl2,1)\n",
    "b"
   ]
  },
  {
   "cell_type": "markdown",
   "metadata": {},
   "source": [
    "# Inputs"
   ]
  },
  {
   "cell_type": "code",
   "execution_count": 6,
   "metadata": {},
   "outputs": [
    {
     "data": {
      "text/plain": [
       "array([[5.],\n",
       "       [2.]])"
      ]
     },
     "execution_count": 6,
     "metadata": {},
     "output_type": "execute_result"
    }
   ],
   "source": [
    "h[0][0]=5\n",
    "h[0][1]=2\n",
    "h[0]"
   ]
  },
  {
   "cell_type": "markdown",
   "metadata": {},
   "source": [
    "# Weighted sum (Feed forward)"
   ]
  },
  {
   "cell_type": "code",
   "execution_count": 7,
   "metadata": {},
   "outputs": [
    {
     "data": {
      "text/plain": [
       "array([[0.88270335]])"
      ]
     },
     "execution_count": 7,
     "metadata": {},
     "output_type": "execute_result"
    }
   ],
   "source": [
    "cbs=w.dot(h[0])+b[0,0] #with bias\n",
    "sbs=w.dot(h[0]) #withoout bias\n",
    "sbs"
   ]
  },
  {
   "cell_type": "markdown",
   "metadata": {},
   "source": [
    "### Sigmoid function"
   ]
  },
  {
   "cell_type": "code",
   "execution_count": 8,
   "metadata": {},
   "outputs": [],
   "source": [
    "def sigmoid(z):\n",
    " sigma=1/(1+np.exp(-z))\n",
    " return sigma\n",
    " "
   ]
  },
  {
   "cell_type": "markdown",
   "metadata": {},
   "source": [
    "##  Perceptron Feedforward"
   ]
  },
  {
   "cell_type": "code",
   "execution_count": 9,
   "metadata": {},
   "outputs": [
    {
     "name": "stdout",
     "output_type": "stream",
     "text": [
      "con bias[[0.84403096]]sin bias[[0.70738211]]\n"
     ]
    }
   ],
   "source": [
    "h[0][0]=5\n",
    "h[0][1]=2\n",
    "bs=sigmoid(w.dot(h[0])+b[0,0]) #with bias\n",
    "sbs=sigmoid(w.dot(h[0]))#without bias\n",
    "\n",
    "print('con bias'+str(bs)+'sin bias'+str(sbs))"
   ]
  },
  {
   "cell_type": "markdown",
   "metadata": {},
   "source": [
    "# Cost function"
   ]
  },
  {
   "cell_type": "code",
   "execution_count": 10,
   "metadata": {},
   "outputs": [],
   "source": [
    "def cost(y,h):\n",
    "    C=(y-h)**2\n",
    "    return C"
   ]
  },
  {
   "cell_type": "code",
   "execution_count": 11,
   "metadata": {},
   "outputs": [
    {
     "name": "stdout",
     "output_type": "stream",
     "text": [
      "costo con bias[[0.0179643]]costo sin bias[[6.8533599e-06]]\n"
     ]
    }
   ],
   "source": [
    "y=.71\n",
    "Cb=cost(y,bs)\n",
    "Cbs=cost(y,sbs)\n",
    "#Cb=(y-bs)**2\n",
    "#Cbs=(y-sbs)**2\n",
    "print('costo con bias'+str(Cb)+'costo sin bias'+str(Cbs))"
   ]
  },
  {
   "cell_type": "markdown",
   "metadata": {},
   "source": [
    "# Backpropagation"
   ]
  },
  {
   "cell_type": "markdown",
   "metadata": {},
   "source": [
    "## defining the gradient descents derivates"
   ]
  },
  {
   "cell_type": "code",
   "execution_count": 12,
   "metadata": {},
   "outputs": [],
   "source": [
    "def dC(y,h): #dC/dh\n",
    " dcdh=-2*(y-h)\n",
    " return dcdh\n",
    "def dh(z): #dh/dz\n",
    " dhdz=sigmoid(z)*(1-sigmoid(z))\n",
    " return dhdz\n",
    "def dz(h): #dz/dw\n",
    " dzdw=h\n",
    " return dzdw"
   ]
  },
  {
   "cell_type": "code",
   "execution_count": 13,
   "metadata": {},
   "outputs": [],
   "source": [
    "#Training our perceptron"
   ]
  },
  {
   "cell_type": "code",
   "execution_count": 14,
   "metadata": {},
   "outputs": [
    {
     "name": "stdout",
     "output_type": "stream",
     "text": [
      "pesos iniciales [[0.77782078 0.68634545]]\n",
      "bias inicial [[0.79907273]]\n",
      "costo [[0.08113426]]\n",
      "costo [[0.08100771]]\n",
      "costo [[0.08087017]]\n",
      "costo [[0.0807202]]\n",
      "costo [[0.08055605]]\n",
      "costo [[0.08037567]]\n",
      "costo [[0.08017657]]\n",
      "costo [[0.07995577]]\n",
      "costo [[0.0797096]]\n",
      "costo [[0.07943355]]\n",
      "costo [[0.07912201]]\n",
      "costo [[0.07876789]]\n",
      "costo [[0.07836215]]\n",
      "costo [[0.07789305]]\n",
      "costo [[0.07734516]]\n",
      "costo [[0.07669779]]\n",
      "costo [[0.07592264]]\n",
      "costo [[0.07498011]]\n",
      "costo [[0.07381334]]\n",
      "costo [[0.07233832]]\n",
      "costo [[0.07042682]]\n",
      "costo [[0.06787607]]\n",
      "costo [[0.06435352]]\n",
      "costo [[0.0592968]]\n",
      "costo [[0.05175103]]\n",
      "costo [[0.0402486]]\n",
      "costo [[0.02367208]]\n",
      "costo [[0.00634775]]\n",
      "costo [[7.98963694e-05]]\n",
      "costo [[3.1179751e-06]]\n",
      "costo [[1.72998235e-07]]\n",
      "costo [[8.99335117e-09]]\n",
      "costo [[4.74833843e-10]]\n",
      "costo [[2.49821158e-11]]\n",
      "costo [[1.31543423e-12]]\n",
      "costo [[6.92513509e-14]]\n",
      "costo [[3.64590966e-15]]\n",
      "costo [[1.91946103e-16]]\n",
      "costo [[1.0105404e-17]]\n",
      "costo [[5.32019965e-19]]\n",
      "costo [[2.80093002e-20]]\n",
      "costo [[1.47460731e-21]]\n",
      "costo [[7.76328746e-23]]\n",
      "costo [[4.0868872e-24]]\n",
      "costo [[2.15157917e-25]]\n",
      "costo [[1.13359435e-26]]\n",
      "costo [[6.02011804e-28]]\n",
      "costo [[3.33293732e-29]]\n",
      "costo [[2.08308583e-30]]\n",
      "costo [[1.10933565e-31]]\n",
      "costo [[0.]]\n",
      "break in epoch 50\n"
     ]
    }
   ],
   "source": [
    "nl1=2 #nodes in Layer 1\n",
    "nl2=1 #nodes in Layer 2\n",
    "etha=.5 #Learning rate \n",
    "epoc=100 #number of epochs\n",
    "#alpha=2\n",
    "w=np.array((np.random.rand(nl2,nl1)))\n",
    "#w=np.array([[-1,0]])\n",
    "#w=np.array([[-5,-1]])\n",
    "#w=np.array([[-2,0]])\n",
    "h=np.array((np.random.rand(nl1,1),np.random.rand(nl2,1)))\n",
    "b=np.random.rand(nl2,1) #initialize weights, neurons, and bias matrix\n",
    "print('pesos iniciales',w)\n",
    "print('bias inicial',b)\n",
    "#Determine training matrix \n",
    "Dw=np.array(np.random.rand(1,2))\n",
    "y=np.array(.71) #Determine the \"correct answer\"\n",
    "h[0][0]=5 \n",
    "h[0][1]=2 #Determine inputs\n",
    "costo=[]\n",
    "pesos=[]\n",
    "for e in range(epoc):\n",
    " #etha=etha*(np.exp(-alpha*e))   #use it carefully for a variable learning rate\n",
    " #z=w.dot(h[0])+b \n",
    " pesos.append(w[0])\n",
    " z=w.dot(h[0])\n",
    " h[1]=sigmoid(z)#without bias\n",
    " C=cost(y,h[1])\n",
    " #C=(y-h[1])**2\n",
    " Dw=np.transpose(dC(y,h[1])*dh(z)*dz(h[0]))\n",
    " Db=dC(y,h[1])*dh(z)\n",
    " w=w-(etha*Dw)\n",
    " b=b-(etha*Db)\n",
    " print('costo',C)\n",
    " if C==0:\n",
    "    print('break in epoch',e)\n",
    "    break\n",
    " costo.append(C[0])\n",
    "# pesos.append(w[0])"
   ]
  },
  {
   "cell_type": "code",
   "execution_count": 15,
   "metadata": {},
   "outputs": [
    {
     "data": {
      "text/plain": [
       "<matplotlib.axes._subplots.AxesSubplot at 0x1106ced38c8>"
      ]
     },
     "execution_count": 15,
     "metadata": {},
     "output_type": "execute_result"
    },
    {
     "data": {
      "image/png": "[encoded data removed]",
      "text/plain": [
       "<Figure size 432x288 with 1 Axes>"
      ]
     },
     "metadata": {
      "needs_background": "light"
     },
     "output_type": "display_data"
    }
   ],
   "source": [
    "costo1=pd.DataFrame(costo)\n",
    "costo1.plot()"
   ]
  },
  {
   "cell_type": "markdown",
   "metadata": {},
   "source": [
    "# Implementation"
   ]
  },
  {
   "cell_type": "code",
   "execution_count": 16,
   "metadata": {},
   "outputs": [
    {
     "data": {
      "text/plain": [
       "array([[0.02499134, 0.38521367]])"
      ]
     },
     "execution_count": 16,
     "metadata": {},
     "output_type": "execute_result"
    }
   ],
   "source": [
    "w #perfect weight with bias [[0.15726836,0.08703549]] perfect weights without bias [[0.09533541,0.20935351]]"
   ]
  },
  {
   "cell_type": "code",
   "execution_count": 17,
   "metadata": {},
   "outputs": [
    {
     "data": {
      "text/plain": [
       "array([[0.71]])"
      ]
     },
     "execution_count": 17,
     "metadata": {},
     "output_type": "execute_result"
    }
   ],
   "source": [
    "h[0][0]=5\n",
    "h[0][1]=2\n",
    "bs=sigmoid(w.dot(h[0])+b[0,0]) #con bias\n",
    "sbs=sigmoid(w.dot(h[0]))#sin bias\n",
    "sbs"
   ]
  },
  {
   "cell_type": "code",
   "execution_count": 18,
   "metadata": {},
   "outputs": [
    {
     "data": {
      "text/plain": [
       "0     0.686345\n",
       "1     0.683421\n",
       "2     0.680375\n",
       "3     0.677194\n",
       "4     0.673869\n",
       "5     0.670385\n",
       "6     0.666727\n",
       "7     0.662877\n",
       "8     0.658814\n",
       "9     0.654516\n",
       "10    0.649954\n",
       "11    0.645094\n",
       "12    0.639898\n",
       "13    0.634319\n",
       "14    0.628297\n",
       "15    0.621762\n",
       "16    0.614625\n",
       "17    0.606772\n",
       "18    0.598057\n",
       "19    0.588288\n",
       "20    0.577207\n",
       "21    0.564462\n",
       "22    0.549559\n",
       "23    0.531801\n",
       "24    0.510212\n",
       "25    0.483548\n",
       "26    0.450891\n",
       "27    0.414701\n",
       "28    0.388236\n",
       "29    0.384623\n",
       "30    0.385353\n",
       "31    0.385182\n",
       "32    0.385221\n",
       "33    0.385212\n",
       "34    0.385214\n",
       "35    0.385214\n",
       "36    0.385214\n",
       "37    0.385214\n",
       "38    0.385214\n",
       "39    0.385214\n",
       "40    0.385214\n",
       "41    0.385214\n",
       "42    0.385214\n",
       "43    0.385214\n",
       "44    0.385214\n",
       "45    0.385214\n",
       "46    0.385214\n",
       "47    0.385214\n",
       "48    0.385214\n",
       "49    0.385214\n",
       "50    0.385214\n",
       "Name: 1, dtype: float64"
      ]
     },
     "execution_count": 18,
     "metadata": {},
     "output_type": "execute_result"
    }
   ],
   "source": [
    "pesos1=pd.DataFrame(pesos)\n",
    "pesos1[1]"
   ]
  },
  {
   "cell_type": "markdown",
   "metadata": {},
   "source": [
    "# Using Keras"
   ]
  },
  {
   "cell_type": "code",
   "execution_count": 19,
   "metadata": {},
   "outputs": [],
   "source": [
    "import tensorflow as tf #1st part\n",
    "from tensorflow  import keras \n",
    "from tensorflow.keras import layers\n",
    "import numpy as np"
   ]
  },
  {
   "cell_type": "code",
   "execution_count": 20,
   "metadata": {},
   "outputs": [],
   "source": [
    "x_train=np.array([[5,2]])\n",
    "y_train=np.array([[.71]])"
   ]
  },
  {
   "cell_type": "code",
   "execution_count": 21,
   "metadata": {},
   "outputs": [
    {
     "name": "stdout",
     "output_type": "stream",
     "text": [
      "[array([[-5.],\n",
      "       [-1.]], dtype=float32)]\n",
      "Train on 1 samples\n",
      "Epoch 1/100\n",
      "1/1 [==============================] - 0s 479ms/sample - loss: 0.5041 - accuracy: 0.0000e+00\n",
      "Epoch 2/100\n",
      "1/1 [==============================] - 0s 4ms/sample - loss: 0.5041 - accuracy: 0.0000e+00\n",
      "Epoch 3/100\n",
      "1/1 [==============================] - 0s 3ms/sample - loss: 0.5041 - accuracy: 0.0000e+00\n",
      "Epoch 4/100\n",
      "1/1 [==============================] - 0s 2ms/sample - loss: 0.5041 - accuracy: 0.0000e+00\n",
      "Epoch 5/100\n",
      "1/1 [==============================] - 0s 5ms/sample - loss: 0.5041 - accuracy: 0.0000e+00\n",
      "Epoch 6/100\n",
      "1/1 [==============================] - 0s 4ms/sample - loss: 0.5041 - accuracy: 0.0000e+00\n",
      "Epoch 7/100\n",
      "1/1 [==============================] - 0s 3ms/sample - loss: 0.5041 - accuracy: 0.0000e+00\n",
      "Epoch 8/100\n",
      "1/1 [==============================] - 0s 3ms/sample - loss: 0.5041 - accuracy: 0.0000e+00\n",
      "Epoch 9/100\n",
      "1/1 [==============================] - 0s 4ms/sample - loss: 0.5041 - accuracy: 0.0000e+00\n",
      "Epoch 10/100\n",
      "1/1 [==============================] - 0s 3ms/sample - loss: 0.5041 - accuracy: 0.0000e+00\n",
      "Epoch 11/100\n",
      "1/1 [==============================] - 0s 3ms/sample - loss: 0.5041 - accuracy: 0.0000e+00\n",
      "Epoch 12/100\n",
      "1/1 [==============================] - 0s 3ms/sample - loss: 0.5041 - accuracy: 0.0000e+00\n",
      "Epoch 13/100\n",
      "1/1 [==============================] - 0s 3ms/sample - loss: 0.5041 - accuracy: 0.0000e+00\n",
      "Epoch 14/100\n",
      "1/1 [==============================] - 0s 3ms/sample - loss: 0.5041 - accuracy: 0.0000e+00\n",
      "Epoch 15/100\n",
      "1/1 [==============================] - 0s 3ms/sample - loss: 0.5041 - accuracy: 0.0000e+00\n",
      "Epoch 16/100\n",
      "1/1 [==============================] - 0s 3ms/sample - loss: 0.5041 - accuracy: 0.0000e+00\n",
      "Epoch 17/100\n",
      "1/1 [==============================] - 0s 6ms/sample - loss: 0.5041 - accuracy: 0.0000e+00\n",
      "Epoch 18/100\n",
      "1/1 [==============================] - 0s 3ms/sample - loss: 0.5041 - accuracy: 0.0000e+00\n",
      "Epoch 19/100\n",
      "1/1 [==============================] - 0s 2ms/sample - loss: 0.5041 - accuracy: 0.0000e+00\n",
      "Epoch 20/100\n",
      "1/1 [==============================] - 0s 3ms/sample - loss: 0.5041 - accuracy: 0.0000e+00\n",
      "Epoch 21/100\n",
      "1/1 [==============================] - 0s 4ms/sample - loss: 0.5041 - accuracy: 0.0000e+00\n",
      "Epoch 22/100\n",
      "1/1 [==============================] - 0s 2ms/sample - loss: 0.5041 - accuracy: 0.0000e+00\n",
      "Epoch 23/100\n",
      "1/1 [==============================] - 0s 3ms/sample - loss: 0.5041 - accuracy: 0.0000e+00\n",
      "Epoch 24/100\n",
      "1/1 [==============================] - 0s 5ms/sample - loss: 0.5041 - accuracy: 0.0000e+00\n",
      "Epoch 25/100\n",
      "1/1 [==============================] - 0s 3ms/sample - loss: 0.5041 - accuracy: 0.0000e+00\n",
      "Epoch 26/100\n",
      "1/1 [==============================] - 0s 3ms/sample - loss: 0.5041 - accuracy: 0.0000e+00\n",
      "Epoch 27/100\n",
      "1/1 [==============================] - 0s 5ms/sample - loss: 0.5041 - accuracy: 0.0000e+00\n",
      "Epoch 28/100\n",
      "1/1 [==============================] - 0s 3ms/sample - loss: 0.5041 - accuracy: 0.0000e+00\n",
      "Epoch 29/100\n",
      "1/1 [==============================] - 0s 2ms/sample - loss: 0.5041 - accuracy: 0.0000e+00\n",
      "Epoch 30/100\n",
      "1/1 [==============================] - 0s 2ms/sample - loss: 0.5041 - accuracy: 0.0000e+00\n",
      "Epoch 31/100\n",
      "1/1 [==============================] - 0s 3ms/sample - loss: 0.5041 - accuracy: 0.0000e+00\n",
      "Epoch 32/100\n",
      "1/1 [==============================] - 0s 3ms/sample - loss: 0.5041 - accuracy: 0.0000e+00\n",
      "Epoch 33/100\n",
      "1/1 [==============================] - 0s 3ms/sample - loss: 0.5041 - accuracy: 0.0000e+00\n",
      "Epoch 34/100\n",
      "1/1 [==============================] - 0s 3ms/sample - loss: 0.5041 - accuracy: 0.0000e+00\n",
      "Epoch 35/100\n",
      "1/1 [==============================] - 0s 4ms/sample - loss: 0.5041 - accuracy: 0.0000e+00\n",
      "Epoch 36/100\n",
      "1/1 [==============================] - 0s 4ms/sample - loss: 0.5041 - accuracy: 0.0000e+00\n",
      "Epoch 37/100\n",
      "1/1 [==============================] - 0s 2ms/sample - loss: 0.5041 - accuracy: 0.0000e+00\n",
      "Epoch 38/100\n",
      "1/1 [==============================] - 0s 4ms/sample - loss: 0.5041 - accuracy: 0.0000e+00\n",
      "Epoch 39/100\n",
      "1/1 [==============================] - 0s 2ms/sample - loss: 0.5041 - accuracy: 0.0000e+00\n",
      "Epoch 40/100\n",
      "1/1 [==============================] - 0s 3ms/sample - loss: 0.5041 - accuracy: 0.0000e+00\n",
      "Epoch 41/100\n",
      "1/1 [==============================] - 0s 3ms/sample - loss: 0.5041 - accuracy: 0.0000e+00\n",
      "Epoch 42/100\n",
      "1/1 [==============================] - 0s 4ms/sample - loss: 0.5041 - accuracy: 0.0000e+00\n",
      "Epoch 43/100\n",
      "1/1 [==============================] - 0s 3ms/sample - loss: 0.5041 - accuracy: 0.0000e+00\n",
      "Epoch 44/100\n",
      "1/1 [==============================] - 0s 3ms/sample - loss: 0.5041 - accuracy: 0.0000e+00\n",
      "Epoch 45/100\n",
      "1/1 [==============================] - 0s 2ms/sample - loss: 0.5041 - accuracy: 0.0000e+00\n",
      "Epoch 46/100\n",
      "1/1 [==============================] - 0s 4ms/sample - loss: 0.5041 - accuracy: 0.0000e+00\n",
      "Epoch 47/100\n",
      "1/1 [==============================] - 0s 4ms/sample - loss: 0.5041 - accuracy: 0.0000e+00\n",
      "Epoch 48/100\n",
      "1/1 [==============================] - 0s 4ms/sample - loss: 0.5041 - accuracy: 0.0000e+00\n",
      "Epoch 49/100\n",
      "1/1 [==============================] - 0s 3ms/sample - loss: 0.5041 - accuracy: 0.0000e+00\n",
      "Epoch 50/100\n",
      "1/1 [==============================] - 0s 2ms/sample - loss: 0.5041 - accuracy: 0.0000e+00\n",
      "Epoch 51/100\n",
      "1/1 [==============================] - 0s 4ms/sample - loss: 0.5041 - accuracy: 0.0000e+00\n",
      "Epoch 52/100\n",
      "1/1 [==============================] - 0s 4ms/sample - loss: 0.5041 - accuracy: 0.0000e+00\n",
      "Epoch 53/100\n",
      "1/1 [==============================] - 0s 3ms/sample - loss: 0.5041 - accuracy: 0.0000e+00\n",
      "Epoch 54/100\n",
      "1/1 [==============================] - 0s 3ms/sample - loss: 0.5041 - accuracy: 0.0000e+00\n",
      "Epoch 55/100\n",
      "1/1 [==============================] - 0s 4ms/sample - loss: 0.5041 - accuracy: 0.0000e+00\n",
      "Epoch 56/100\n",
      "1/1 [==============================] - 0s 3ms/sample - loss: 0.5041 - accuracy: 0.0000e+00\n",
      "Epoch 57/100\n",
      "1/1 [==============================] - 0s 4ms/sample - loss: 0.5041 - accuracy: 0.0000e+00\n",
      "Epoch 58/100\n",
      "1/1 [==============================] - 0s 2ms/sample - loss: 0.5041 - accuracy: 0.0000e+00\n",
      "Epoch 59/100\n",
      "1/1 [==============================] - 0s 3ms/sample - loss: 0.5041 - accuracy: 0.0000e+00\n",
      "Epoch 60/100\n",
      "1/1 [==============================] - 0s 4ms/sample - loss: 0.5041 - accuracy: 0.0000e+00\n",
      "Epoch 61/100\n",
      "1/1 [==============================] - 0s 3ms/sample - loss: 0.5041 - accuracy: 0.0000e+00\n",
      "Epoch 62/100\n",
      "1/1 [==============================] - 0s 5ms/sample - loss: 0.5041 - accuracy: 0.0000e+00\n",
      "Epoch 63/100\n",
      "1/1 [==============================] - 0s 4ms/sample - loss: 0.5041 - accuracy: 0.0000e+00\n",
      "Epoch 64/100\n",
      "1/1 [==============================] - 0s 2ms/sample - loss: 0.5041 - accuracy: 0.0000e+00\n",
      "Epoch 65/100\n",
      "1/1 [==============================] - 0s 4ms/sample - loss: 0.5041 - accuracy: 0.0000e+00\n",
      "Epoch 66/100\n",
      "1/1 [==============================] - 0s 3ms/sample - loss: 0.5041 - accuracy: 0.0000e+00\n",
      "Epoch 67/100\n",
      "1/1 [==============================] - 0s 4ms/sample - loss: 0.5041 - accuracy: 0.0000e+00\n",
      "Epoch 68/100\n",
      "1/1 [==============================] - 0s 5ms/sample - loss: 0.5041 - accuracy: 0.0000e+00\n",
      "Epoch 69/100\n",
      "1/1 [==============================] - 0s 3ms/sample - loss: 0.5041 - accuracy: 0.0000e+00\n",
      "Epoch 70/100\n",
      "1/1 [==============================] - 0s 3ms/sample - loss: 0.5041 - accuracy: 0.0000e+00\n",
      "Epoch 71/100\n",
      "1/1 [==============================] - 0s 2ms/sample - loss: 0.5041 - accuracy: 0.0000e+00\n",
      "Epoch 72/100\n",
      "1/1 [==============================] - 0s 3ms/sample - loss: 0.5041 - accuracy: 0.0000e+00\n",
      "Epoch 73/100\n",
      "1/1 [==============================] - 0s 6ms/sample - loss: 0.5041 - accuracy: 0.0000e+00\n",
      "Epoch 74/100\n",
      "1/1 [==============================] - 0s 4ms/sample - loss: 0.5041 - accuracy: 0.0000e+00\n",
      "Epoch 75/100\n",
      "1/1 [==============================] - 0s 3ms/sample - loss: 0.5041 - accuracy: 0.0000e+00\n",
      "Epoch 76/100\n",
      "1/1 [==============================] - 0s 4ms/sample - loss: 0.5041 - accuracy: 0.0000e+00\n",
      "Epoch 77/100\n",
      "1/1 [==============================] - 0s 3ms/sample - loss: 0.5041 - accuracy: 0.0000e+00\n",
      "Epoch 78/100\n",
      "1/1 [==============================] - 0s 3ms/sample - loss: 0.5041 - accuracy: 0.0000e+00\n",
      "Epoch 79/100\n",
      "1/1 [==============================] - 0s 3ms/sample - loss: 0.5041 - accuracy: 0.0000e+00\n"
     ]
    },
    {
     "name": "stdout",
     "output_type": "stream",
     "text": [
      "Epoch 80/100\n",
      "1/1 [==============================] - 0s 4ms/sample - loss: 0.5041 - accuracy: 0.0000e+00\n",
      "Epoch 81/100\n",
      "1/1 [==============================] - 0s 3ms/sample - loss: 0.5041 - accuracy: 0.0000e+00\n",
      "Epoch 82/100\n",
      "1/1 [==============================] - 0s 2ms/sample - loss: 0.5041 - accuracy: 0.0000e+00\n",
      "Epoch 83/100\n",
      "1/1 [==============================] - 0s 3ms/sample - loss: 0.5041 - accuracy: 0.0000e+00\n",
      "Epoch 84/100\n",
      "1/1 [==============================] - 0s 3ms/sample - loss: 0.5041 - accuracy: 0.0000e+00\n",
      "Epoch 85/100\n",
      "1/1 [==============================] - 0s 5ms/sample - loss: 0.5041 - accuracy: 0.0000e+00\n",
      "Epoch 86/100\n",
      "1/1 [==============================] - 0s 3ms/sample - loss: 0.5041 - accuracy: 0.0000e+00\n",
      "Epoch 87/100\n",
      "1/1 [==============================] - 0s 3ms/sample - loss: 0.5041 - accuracy: 0.0000e+00\n",
      "Epoch 88/100\n",
      "1/1 [==============================] - 0s 4ms/sample - loss: 0.5041 - accuracy: 0.0000e+00\n",
      "Epoch 89/100\n",
      "1/1 [==============================] - 0s 3ms/sample - loss: 0.5041 - accuracy: 0.0000e+00\n",
      "Epoch 90/100\n",
      "1/1 [==============================] - 0s 2ms/sample - loss: 0.5041 - accuracy: 0.0000e+00\n",
      "Epoch 91/100\n",
      "1/1 [==============================] - 0s 5ms/sample - loss: 0.5041 - accuracy: 0.0000e+00\n",
      "Epoch 92/100\n",
      "1/1 [==============================] - 0s 3ms/sample - loss: 0.5041 - accuracy: 0.0000e+00\n",
      "Epoch 93/100\n",
      "1/1 [==============================] - 0s 4ms/sample - loss: 0.5041 - accuracy: 0.0000e+00\n",
      "Epoch 94/100\n",
      "1/1 [==============================] - 0s 3ms/sample - loss: 0.5041 - accuracy: 0.0000e+00\n",
      "Epoch 95/100\n",
      "1/1 [==============================] - 0s 5ms/sample - loss: 0.5041 - accuracy: 0.0000e+00\n",
      "Epoch 96/100\n",
      "1/1 [==============================] - 0s 4ms/sample - loss: 0.5041 - accuracy: 0.0000e+00\n",
      "Epoch 97/100\n",
      "1/1 [==============================] - 0s 5ms/sample - loss: 0.5041 - accuracy: 0.0000e+00\n",
      "Epoch 98/100\n",
      "1/1 [==============================] - 0s 4ms/sample - loss: 0.5041 - accuracy: 0.0000e+00\n",
      "Epoch 99/100\n",
      "1/1 [==============================] - 0s 4ms/sample - loss: 0.5041 - accuracy: 0.0000e+00\n",
      "Epoch 100/100\n",
      "1/1 [==============================] - 0s 3ms/sample - loss: 0.5041 - accuracy: 0.0000e+00\n",
      "Model: \"sequential\"\n",
      "_________________________________________________________________\n",
      "Layer (type)                 Output Shape              Param #   \n",
      "=================================================================\n",
      "dense (Dense)                (None, 1)                 2         \n",
      "=================================================================\n",
      "Total params: 2\n",
      "Trainable params: 2\n",
      "Non-trainable params: 0\n",
      "_________________________________________________________________\n",
      "1\n",
      "[<tf.Variable 'dense/kernel:0' shape=(2, 1) dtype=float32, numpy=\n",
      "array([[-5.],\n",
      "       [-1.]], dtype=float32)>]\n"
     ]
    }
   ],
   "source": [
    "#initial_weights=np.array([[-2],[0]]) #this doesn´t work\n",
    "initial_weights=np.array([[-5],[-1]]) #this works\n",
    "model=keras.Sequential()\n",
    "model.add(keras.Input(shape=2))\n",
    "model.add(layers.Dense(1,activation='sigmoid',use_bias=False))\n",
    "model.set_weights([initial_weights])\n",
    "print(model.get_weights())\n",
    "#After we finished to construct the model we have to \"compile\" it\n",
    "weight=model.compile(loss=\"MSE\",optimizer=keras.optimizers.SGD(lr=.5),metrics=['accuracy'],)\n",
    "#And then it´s time to train our model \n",
    "history=model.fit(x_train,y_train,epochs=100)\n",
    "#model.evaluate(x_test,y_test,verbose=1)\n",
    "model.summary()\n",
    "print(len(model.weights))\n",
    "print(model.weights)"
   ]
  },
  {
   "cell_type": "code",
   "execution_count": 24,
   "metadata": {
    "scrolled": true
   },
   "outputs": [
    {
     "data": {
      "text/plain": [
       "[<matplotlib.lines.Line2D at 0x110735e9a08>]"
      ]
     },
     "execution_count": 24,
     "metadata": {},
     "output_type": "execute_result"
    },
    {
     "data": {
      "image/png": "[encoded data removed]",
      "text/plain": [
       "<Figure size 432x288 with 1 Axes>"
      ]
     },
     "metadata": {
      "needs_background": "light"
     },
     "output_type": "display_data"
    }
   ],
   "source": [
    "plt.plot(history.history['loss'])"
   ]
  },
  {
   "cell_type": "code",
   "execution_count": 25,
   "metadata": {},
   "outputs": [
    {
     "data": {
      "text/plain": [
       "[<tf.Variable 'dense/kernel:0' shape=(2, 1) dtype=float32, numpy=\n",
       " array([[-5.],\n",
       "        [-1.]], dtype=float32)>]"
      ]
     },
     "execution_count": 25,
     "metadata": {},
     "output_type": "execute_result"
    }
   ],
   "source": [
    "model.weights"
   ]
  },
  {
   "cell_type": "code",
   "execution_count": 26,
   "metadata": {},
   "outputs": [
    {
     "data": {
      "text/plain": [
       "array([[1.8795289e-12]], dtype=float32)"
      ]
     },
     "execution_count": 26,
     "metadata": {},
     "output_type": "execute_result"
    }
   ],
   "source": [
    "model.predict(x_train)"
   ]
  },
  {
   "cell_type": "markdown",
   "metadata": {},
   "source": [
    "# Weight valley system  visualization"
   ]
  },
  {
   "cell_type": "code",
   "execution_count": 27,
   "metadata": {},
   "outputs": [],
   "source": [
    "%matplotlib inline\n",
    "from ipywidgets import interactive\n",
    "import matplotlib.pyplot as plt\n",
    "from mpl_toolkits.mplot3d import Axes3D"
   ]
  },
  {
   "cell_type": "code",
   "execution_count": 28,
   "metadata": {},
   "outputs": [],
   "source": [
    "def z(w1,w2,y):\n",
    " return (y-(sigmoid(w1*h[0][0]+w2*h[0][1])))**2\n",
    "y=.71\n",
    "def f(height,azimuth):\n",
    " fig= plt.figure()\n",
    " ax =Axes3D(fig)\n",
    " w1=np.linspace(-1,1,100)\n",
    " w2=np.linspace(-1,1,100)\n",
    " w1, w2 =np.meshgrid(w1,w2)\n",
    " ax.plot_surface(w1, w2, z(w1,w2,y),cmap='cividis')\n",
    " ax.scatter3D(pesos1[0],pesos1[1],z(pesos1[0],pesos1[1],y),c='r')\n",
    " ax.plot3D(pesos1[0],pesos1[1],z(pesos1[0],pesos1[1],y),c='r')\n",
    " ax.set_xlabel('w1')\n",
    " ax.set_ylabel('w2')\n",
    " ax.set_zlabel('c')\n",
    " ax.view_init(height,azimuth)"
   ]
  },
  {
   "cell_type": "code",
   "execution_count": 29,
   "metadata": {},
   "outputs": [
    {
     "data": {
      "application/vnd.jupyter.widget-view+json": {
       "model_id": "7341f9fa9f1a442e9919dde15257dcac",
       "version_major": 2,
       "version_minor": 0
      },
      "text/plain": [
       "interactive(children=(IntSlider(value=0, description='height', max=90, min=-90, step=5), IntSlider(value=80, d…"
      ]
     },
     "metadata": {},
     "output_type": "display_data"
    }
   ],
   "source": [
    "def f(height,azimuth):\n",
    " fig= plt.figure()\n",
    " ax =Axes3D(fig)\n",
    " w1=np.linspace(pesos1[0][0],pesos1[0][len(pesos1)-1],100)\n",
    " w2=np.linspace(pesos1[1][0],pesos1[1][len(pesos1)-1],100)\n",
    " w1, w2 =np.meshgrid(w1,w2)\n",
    " ax.plot_surface(w1, w2, z(w1,w2,y),cmap='cividis')\n",
    " ax.scatter3D(pesos1[0],pesos1[1],z(pesos1[0],pesos1[1],y),c='r')\n",
    " ax.plot3D(pesos1[0],pesos1[1],z(pesos1[0],pesos1[1],y),c='r')\n",
    " ax.set_xlabel('w1')\n",
    " ax.set_ylabel('w2')\n",
    " ax.set_zlabel('c')\n",
    " ax.view_init(height,azimuth)\n",
    " plt.show()\n",
    "    #plt.figure(2)\n",
    "    #x = np.linspace(-10, 10, num=1000)\n",
    "    #plt.plot(x, m * x + b)\n",
    "    #plt.ylim(-5, 5)\n",
    "    #plt.show()\n",
    "\n",
    "interactive_plot = interactive(f, height=(-90, 90,5), azimuth=(-0, 160, 5))\n",
    "output = interactive_plot.children[-1]\n",
    "output.layout.height = '350px'\n",
    "interactive_plot\n",
    "#Usually can be seen nice with height=20 and azimuth=80"
   ]
  },
  {
   "cell_type": "code",
   "execution_count": 32,
   "metadata": {},
   "outputs": [
    {
     "data": {
      "application/vnd.jupyter.widget-view+json": {
       "model_id": "0c7d1de58c82429d92f853084af0effc",
       "version_major": 2,
       "version_minor": 0
      },
      "text/plain": [
       "interactive(children=(IntSlider(value=40, description='altura', max=90, step=10), IntSlider(value=60, descript…"
      ]
     },
     "metadata": {},
     "output_type": "display_data"
    }
   ],
   "source": [
    "\n",
    "def f(altura,azimuth,rang1,rang2):\n",
    " fig= plt.figure()\n",
    " ax =Axes3D(fig)\n",
    " w1=np.linspace(rang1,rang2,30)\n",
    " w2=np.linspace(rang1,rang2,30)\n",
    " w1, w2 =np.meshgrid(w1,w2)\n",
    " ax.scatter3D(pesos1[0],pesos1[1],z(pesos1[0],pesos1[1],y),c='r')\n",
    " ax.plot3D(pesos1[0],pesos1[1],z(pesos1[0],pesos1[1],y),c='r')\n",
    " ax.plot_wireframe(w1, w2, z(w1,w2,y),cmap='cividis')\n",
    " ax.set_xlabel('w1')\n",
    " ax.set_ylabel('w2')\n",
    " ax.set_zlabel('c')\n",
    " ax.view_init(altura,azimuth)\n",
    " plt.show()\n",
    "    #plt.figure(2)\n",
    "    #x = np.linspace(-10, 10, num=1000)\n",
    "    #plt.plot(x, m * x + b)\n",
    "    #plt.ylim(-5, 5)\n",
    "    #plt.show()\n",
    "\n",
    "interactive_plot = interactive(f, altura=(0, 90,10), azimuth=(0, 120, 5),rang1=(-10,0,.1),rang2=(0,10,.1))\n",
    "output = interactive_plot.children[-1]\n",
    "output.layout.height = '350px'\n",
    "interactive_plot\n",
    "#w1=np.linspace(pesos1[0][0],pesos1[0][len(pesos1)-1],100)\n",
    "#w2=np.linspace(pesos1[1][0],pesos1[1][len(pesos1)-1],100)"
   ]
  },
  {
   "cell_type": "code",
   "execution_count": null,
   "metadata": {},
   "outputs": [],
   "source": []
  },
  {
   "cell_type": "code",
   "execution_count": null,
   "metadata": {},
   "outputs": [],
   "source": []
  }
 ],
 "metadata": {
  "kernelspec": {
   "display_name": "Python 3",
   "language": "python",
   "name": "python3"
  },
  "language_info": {
   "codemirror_mode": {
    "name": "ipython",
    "version": 3
   },
   "file_extension": ".py",
   "mimetype": "text/x-python",
   "name": "python",
   "nbconvert_exporter": "python",
   "pygments_lexer": "ipython3",
   "version": "3.7.6"
  }
 },
 "nbformat": 4,
 "nbformat_minor": 2
}
