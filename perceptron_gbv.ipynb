{
 "cells": [
  {
   "cell_type": "code",
   "execution_count": 605,
   "metadata": {},
   "outputs": [],
   "source": [
    "import numpy as np\n",
    "import matplotlib.pyplot as plt\n",
    "\n",
    "from mpl_toolkits.mplot3d import Axes3D\n",
    "from ipywidgets import interact, interactive, fixed, interact_manual\n",
    "import ipywidgets as widgets\n"
   ]
  },
  {
   "cell_type": "code",
   "execution_count": 881,
   "metadata": {},
   "outputs": [
    {
     "name": "stdout",
     "output_type": "stream",
     "text": [
      "[0.71]\n",
      "[2.52851407e-21]\n"
     ]
    }
   ],
   "source": [
    "x = np.array([5,2])     # valores iniciales del input\n",
    "# w = np.array([[0.9],\n",
    "#               [0.8]])   #valores inicial de los pesos\n",
    "b = 0                 # valor  del bias\n",
    "\n",
    "y = 0.71                # valor objetivo\n",
    "z = np.dot(x,w) + b\n",
    "h = 1/(1+np.exp(-z))\n",
    "print(h)                # resultado\n",
    "print((y - h)**2)       # costo"
   ]
  },
  {
   "cell_type": "markdown",
   "metadata": {},
   "source": [
    "# El algoritmo"
   ]
  },
  {
   "cell_type": "code",
   "execution_count": 895,
   "metadata": {},
   "outputs": [
    {
     "name": "stdout",
     "output_type": "stream",
     "text": [
      "[5 2] [[0.08931281]\n",
      " [0.22440999]]\n",
      "[0.71]\n"
     ]
    }
   ],
   "source": [
    "def find_weight(x=[5,2],b=0,y=0.71):\n",
    "\n",
    "    def sigmoid(z):\n",
    "        return 1/(1+np.exp(-z))\n",
    "    def cost(y,h):\n",
    "        return (y-h)**2\n",
    "    def dC(y,h):\n",
    "        return -2*(y-h)\n",
    "    def dh(z): #dh/dz\n",
    "        return sigmoid(z)*(1-sigmoid(z))\n",
    "    def dz(h): #dz/dw\n",
    "        return h\n",
    "\n",
    "\n",
    "    x  = np.array(x)\n",
    "    w  = np.random.rand(2,1)    # random value of weight\n",
    "    y    = 0.71  #soluci'on del sistema\n",
    "    etha = 1.\n",
    "    iteraciones = 1000\n",
    "\n",
    "    for iteracion in range(iteraciones):\n",
    "        z  = np.dot(x,w) + b\n",
    "        h  = sigmoid(z)\n",
    "        correccion = dC(y,h)*dh(z)*dz(h)\n",
    "        w  = w - etha*correccion\n",
    "        if cost(y,h) < 1e-20:\n",
    "#             print(\"iteraciones=\",iteracion)\n",
    "            break\n",
    "    C = cost(y,h)\n",
    "    \n",
    "    return x,w\n",
    "\n",
    "x,w = find_weight(b=0)\n",
    "print(x,w)\n",
    "z = np.dot(x,w) + b\n",
    "print(sigmoid(z))"
   ]
  },
  {
   "cell_type": "markdown",
   "metadata": {},
   "source": [
    "# Calculando la superficie"
   ]
  },
  {
   "cell_type": "code",
   "execution_count": 900,
   "metadata": {
    "scrolled": false
   },
   "outputs": [
    {
     "data": {
      "application/vnd.jupyter.widget-view+json": {
       "model_id": "d4feab10f1a249b791ac681a668294f9",
       "version_major": 2,
       "version_minor": 0
      },
      "text/plain": [
       "interactive(children=(IntSlider(value=30, description='elev', max=90, min=-30), IntSlider(value=0, description…"
      ]
     },
     "metadata": {},
     "output_type": "display_data"
    },
    {
     "data": {
      "text/plain": [
       "<function __main__.superficie(elev, azim, delta, b)>"
      ]
     },
     "execution_count": 900,
     "metadata": {},
     "output_type": "execute_result"
    }
   ],
   "source": [
    "\n",
    "def superficie(elev,azim,delta,b): \n",
    "    x = np.array([[5],[2]])   #valores inicial de los pesos\n",
    "    y = 0.71 ;m = 10\n",
    "    Wx = np.outer( np.linspace(-m*w[0],m*w[0],delta),np.ones(delta))\n",
    "    Wy = np.outer( np.linspace(-m*w[1],m*w[1],delta),np.ones(delta)).T\n",
    "    z = x[0]*Wx + x[1]*Wy  + b\n",
    "    h = 1/(1+np.exp(-z))\n",
    "    C = (-h + y)**2\n",
    "\n",
    "    fig = plt.figure(figsize=(10,10))\n",
    "    ax = plt.axes(projection='3d')\n",
    "    ax.view_init(elev, azim)\n",
    "    ax.plot_wireframe(Wx, Wy, C)\n",
    "    for i in range(50):\n",
    "        _,rx =find_weight(b=b)\n",
    "        ax.plot(rx[0],rx[1],'ro',markersize=10,linewidth=20)\n",
    "    plt.show()\n",
    "interact(superficie,elev=30,\n",
    "         azim=(-180,180,5),\n",
    "         delta = widgets.IntSlider(min=10, max=200, step=10, value=30),\n",
    "         b = (-10,10,1)\n",
    "        )"
   ]
  },
  {
   "cell_type": "code",
   "execution_count": null,
   "metadata": {},
   "outputs": [],
   "source": []
  }
 ],
 "metadata": {
  "kernelspec": {
   "display_name": "Python 3",
   "language": "python",
   "name": "python3"
  },
  "language_info": {
   "codemirror_mode": {
    "name": "ipython",
    "version": 3
   },
   "file_extension": ".py",
   "mimetype": "text/x-python",
   "name": "python",
   "nbconvert_exporter": "python",
   "pygments_lexer": "ipython3",
   "version": "3.8.5"
  }
 },
 "nbformat": 4,
 "nbformat_minor": 4
}
