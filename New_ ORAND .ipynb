{
 "cells": [
  {
   "cell_type": "code",
   "execution_count": 51,
   "metadata": {},
   "outputs": [],
   "source": [
    "import pandas as pd\n",
    "import numpy as np\n",
    "import matplotlib.pyplot as plt"
   ]
  },
  {
   "cell_type": "code",
   "execution_count": 2,
   "metadata": {},
   "outputs": [],
   "source": [
    "def importa(archivo,nombres):\n",
    " data = pd.read_csv(archivo,sep=',',names=nombres,skiprows=0)#para archivo simple\n",
    " return data"
   ]
  },
  {
   "cell_type": "code",
   "execution_count": 3,
   "metadata": {},
   "outputs": [
    {
     "data": {
      "text/html": [
       "<div>\n",
       "<style scoped>\n",
       "    .dataframe tbody tr th:only-of-type {\n",
       "        vertical-align: middle;\n",
       "    }\n",
       "\n",
       "    .dataframe tbody tr th {\n",
       "        vertical-align: top;\n",
       "    }\n",
       "\n",
       "    .dataframe thead th {\n",
       "        text-align: right;\n",
       "    }\n",
       "</style>\n",
       "<table border=\"1\" class=\"dataframe\">\n",
       "  <thead>\n",
       "    <tr style=\"text-align: right;\">\n",
       "      <th></th>\n",
       "      <th>I1</th>\n",
       "      <th>I2</th>\n",
       "      <th>OR</th>\n",
       "      <th>AND</th>\n",
       "    </tr>\n",
       "  </thead>\n",
       "  <tbody>\n",
       "    <tr>\n",
       "      <th>0</th>\n",
       "      <td>1</td>\n",
       "      <td>1</td>\n",
       "      <td>1</td>\n",
       "      <td>1</td>\n",
       "    </tr>\n",
       "    <tr>\n",
       "      <th>1</th>\n",
       "      <td>0</td>\n",
       "      <td>1</td>\n",
       "      <td>1</td>\n",
       "      <td>0</td>\n",
       "    </tr>\n",
       "    <tr>\n",
       "      <th>2</th>\n",
       "      <td>1</td>\n",
       "      <td>0</td>\n",
       "      <td>1</td>\n",
       "      <td>0</td>\n",
       "    </tr>\n",
       "    <tr>\n",
       "      <th>3</th>\n",
       "      <td>0</td>\n",
       "      <td>0</td>\n",
       "      <td>0</td>\n",
       "      <td>0</td>\n",
       "    </tr>\n",
       "  </tbody>\n",
       "</table>\n",
       "</div>"
      ],
      "text/plain": [
       "   I1  I2  OR  AND\n",
       "0   1   1   1    1\n",
       "1   0   1   1    0\n",
       "2   1   0   1    0\n",
       "3   0   0   0    0"
      ]
     },
     "execution_count": 3,
     "metadata": {},
     "output_type": "execute_result"
    }
   ],
   "source": [
    "data=importa('ANDOR.csv',['I1','I2','OR','AND'])\n",
    "data"
   ]
  },
  {
   "cell_type": "code",
   "execution_count": 4,
   "metadata": {},
   "outputs": [
    {
     "data": {
      "text/plain": [
       "array([[[0.81050935],\n",
       "        [0.19719992]],\n",
       "\n",
       "       [[0.90411421],\n",
       "        [0.68487078]]])"
      ]
     },
     "execution_count": 4,
     "metadata": {},
     "output_type": "execute_result"
    }
   ],
   "source": [
    "h= np.array((np.random.rand(2,1),np.random.rand(2,1)))\n",
    "h"
   ]
  },
  {
   "cell_type": "code",
   "execution_count": 5,
   "metadata": {},
   "outputs": [],
   "source": [
    "\n",
    "def entrada(h,data,i):\n",
    "      h[0][0]=data.I1[i] \n",
    "      h[0][1]=data.I2[i]\n",
    "      return h[0]"
   ]
  },
  {
   "cell_type": "code",
   "execution_count": 6,
   "metadata": {},
   "outputs": [
    {
     "name": "stdout",
     "output_type": "stream",
     "text": [
      "[[1.]\n",
      " [1.]]\n",
      "[[0.]\n",
      " [1.]]\n",
      "[[1.]\n",
      " [0.]]\n",
      "[[0.]\n",
      " [0.]]\n"
     ]
    }
   ],
   "source": [
    "for pos in range(len(data.I1)):\n",
    " h[0]=entrada(h,data,pos)\n",
    " print(h[0])"
   ]
  },
  {
   "cell_type": "code",
   "execution_count": 7,
   "metadata": {},
   "outputs": [],
   "source": [
    "def sigmoid(z):\n",
    "    return 1/(1+np.exp(-z))\n",
    "  "
   ]
  },
  {
   "cell_type": "code",
   "execution_count": 8,
   "metadata": {},
   "outputs": [
    {
     "data": {
      "text/plain": [
       "array([[0.62536605, 0.25925769],\n",
       "       [0.67719364, 0.73146038]])"
      ]
     },
     "execution_count": 8,
     "metadata": {},
     "output_type": "execute_result"
    }
   ],
   "source": [
    "w=np.array((np.random.rand(2,2)))\n",
    "w"
   ]
  },
  {
   "cell_type": "code",
   "execution_count": 9,
   "metadata": {},
   "outputs": [
    {
     "data": {
      "text/plain": [
       "array([[0.3548931],\n",
       "       [0.1616432]])"
      ]
     },
     "execution_count": 9,
     "metadata": {},
     "output_type": "execute_result"
    }
   ],
   "source": [
    "b=np.array((np.random.rand(2,1)))\n",
    "b"
   ]
  },
  {
   "cell_type": "code",
   "execution_count": 10,
   "metadata": {},
   "outputs": [
    {
     "data": {
      "text/plain": [
       "array([[1.23951684],\n",
       "       [1.57029723]])"
      ]
     },
     "execution_count": 10,
     "metadata": {},
     "output_type": "execute_result"
    }
   ],
   "source": [
    "z=w.dot(entrada(h,data,0))+b\n",
    "z"
   ]
  },
  {
   "cell_type": "code",
   "execution_count": 11,
   "metadata": {},
   "outputs": [
    {
     "data": {
      "text/plain": [
       "array([[[1.        ],\n",
       "        [1.        ]],\n",
       "\n",
       "       [[0.7754799 ],\n",
       "        [0.82782598]]])"
      ]
     },
     "execution_count": 11,
     "metadata": {},
     "output_type": "execute_result"
    }
   ],
   "source": [
    "h[1]=sigmoid(z)\n",
    "h"
   ]
  },
  {
   "cell_type": "code",
   "execution_count": 12,
   "metadata": {},
   "outputs": [
    {
     "data": {
      "text/plain": [
       "array([[1],\n",
       "       [0]], dtype=int64)"
      ]
     },
     "execution_count": 12,
     "metadata": {},
     "output_type": "execute_result"
    }
   ],
   "source": [
    "i=2\n",
    "y=np.array([[data['OR'].iloc[i]],[data['AND'].iloc[i]]])\n",
    "y"
   ]
  },
  {
   "cell_type": "code",
   "execution_count": 13,
   "metadata": {},
   "outputs": [],
   "source": [
    "def MSE(y,h):\n",
    "    return (y-h[1])**2\n",
    " "
   ]
  },
  {
   "cell_type": "code",
   "execution_count": 14,
   "metadata": {},
   "outputs": [
    {
     "data": {
      "text/plain": [
       "array([[0.05040927],\n",
       "       [0.68529585]])"
      ]
     },
     "execution_count": 14,
     "metadata": {},
     "output_type": "execute_result"
    }
   ],
   "source": [
    "c=MSE(y,h)\n",
    "c"
   ]
  },
  {
   "cell_type": "code",
   "execution_count": 15,
   "metadata": {},
   "outputs": [
    {
     "data": {
      "text/plain": [
       "0.3678525607821012"
      ]
     },
     "execution_count": 15,
     "metadata": {},
     "output_type": "execute_result"
    }
   ],
   "source": [
    "np.mean(c)"
   ]
  },
  {
   "cell_type": "code",
   "execution_count": 16,
   "metadata": {},
   "outputs": [],
   "source": [
    "def dC(y,h,n):\n",
    "    return (-2*(y[n]-h[1][n]))\n",
    "    "
   ]
  },
  {
   "cell_type": "code",
   "execution_count": 17,
   "metadata": {},
   "outputs": [],
   "source": [
    "def dh(z,n):\n",
    "    return (sigmoid(z[n])*(1-sigmoid(z[n])))"
   ]
  },
  {
   "cell_type": "code",
   "execution_count": 18,
   "metadata": {},
   "outputs": [],
   "source": [
    "def dz(h):\n",
    "    return h[0]"
   ]
  },
  {
   "cell_type": "code",
   "execution_count": 19,
   "metadata": {},
   "outputs": [],
   "source": [
    "h[0]=entrada(h,data,i)\n",
    "n=0\n",
    "Dw=np.transpose(dz(h)*dh(z,n)*dC(y,h,n))"
   ]
  },
  {
   "cell_type": "code",
   "execution_count": 20,
   "metadata": {},
   "outputs": [
    {
     "data": {
      "text/plain": [
       "array([[-0.07818276, -0.        ]])"
      ]
     },
     "execution_count": 20,
     "metadata": {},
     "output_type": "execute_result"
    }
   ],
   "source": [
    "Dw"
   ]
  },
  {
   "cell_type": "code",
   "execution_count": 21,
   "metadata": {},
   "outputs": [
    {
     "data": {
      "text/plain": [
       "array([-0.07818276])"
      ]
     },
     "execution_count": 21,
     "metadata": {},
     "output_type": "execute_result"
    }
   ],
   "source": [
    "Db=dh(z,n)*dC(y,h,n)\n",
    "Db"
   ]
  },
  {
   "cell_type": "code",
   "execution_count": 22,
   "metadata": {},
   "outputs": [
    {
     "data": {
      "text/plain": [
       "array([[1],\n",
       "       [0]], dtype=int64)"
      ]
     },
     "execution_count": 22,
     "metadata": {},
     "output_type": "execute_result"
    }
   ],
   "source": [
    "h[0]=entrada(h,data,i)\n",
    "y=np.array([[data['OR'].iloc[i]],[data['AND'].iloc[i]]])\n",
    "y"
   ]
  },
  {
   "cell_type": "code",
   "execution_count": 23,
   "metadata": {},
   "outputs": [],
   "source": [
    "etha=.5\n",
    "w=np.array((np.random.rand(2,2)))\n",
    "b=np.array((np.random.rand(2,1)))\n",
    "h= np.array((np.random.rand(2,1),np.random.rand(2,1)))\n",
    "y=np.array([[data['OR'].iloc[i]],[data['AND'].iloc[i]]])"
   ]
  },
  {
   "cell_type": "code",
   "execution_count": 24,
   "metadata": {},
   "outputs": [],
   "source": [
    "\n",
    "output_layer_nodes=2\n",
    "epocs=200\n",
    "for epoc in range(epocs):\n",
    " for i in data.index:\n",
    "   h[0]=entrada(h,data,i)\n",
    "   y=np.array([[data['OR'].iloc[i]],[data['AND'].iloc[i]]])\n",
    "   z=w.dot(h[0])+b\n",
    "   h[1]=sigmoid(z)\n",
    "   c=MSE(y,h)\n",
    "   #print(sum(c))\n",
    "   for n in range(output_layer_nodes):\n",
    "     Dw=etha*np.transpose(dz(h)*dh(z,n)*dC(y,h,n)) \n",
    "     w[n]=w[n]-Dw\n",
    "     Db=etha*dh(z,n)*dC(y,h,n)\n",
    "     b[n]=b[n]-Db  "
   ]
  },
  {
   "cell_type": "code",
   "execution_count": 25,
   "metadata": {},
   "outputs": [
    {
     "data": {
      "text/plain": [
       "array([1.86180805e-05])"
      ]
     },
     "execution_count": 25,
     "metadata": {},
     "output_type": "execute_result"
    }
   ],
   "source": [
    "c[1]"
   ]
  },
  {
   "cell_type": "code",
   "execution_count": 26,
   "metadata": {},
   "outputs": [
    {
     "name": "stdout",
     "output_type": "stream",
     "text": [
      "3\n",
      "3\n",
      "3\n",
      "3\n"
     ]
    }
   ],
   "source": [
    "for _,I1 in enumerate(data.I1):\n",
    "    print(i)"
   ]
  },
  {
   "cell_type": "code",
   "execution_count": 27,
   "metadata": {},
   "outputs": [],
   "source": [
    "def predict(h,w):\n",
    "      z=w.dot(h[0])+b\n",
    "      h[1]=sigmoid(z)\n",
    "      return(h[1])"
   ]
  },
  {
   "cell_type": "code",
   "execution_count": 28,
   "metadata": {},
   "outputs": [
    {
     "name": "stdout",
     "output_type": "stream",
     "text": [
      "[[1.]\n",
      " [1.]][[0.99873668]\n",
      " [0.83807868]]\n",
      "[[0.]\n",
      " [1.]][[0.91731653]\n",
      " [0.12915483]]\n",
      "[[1.]\n",
      " [0.]][[0.91671035]\n",
      " [0.1313666 ]]\n",
      "[[0.]\n",
      " [0.]][[0.13379092]\n",
      " [0.00431479]]\n"
     ]
    }
   ],
   "source": [
    "for i in range (0,4,1):\n",
    " print(str(entrada(h,data,i))+ str(predict(h,w)))"
   ]
  },
  {
   "cell_type": "code",
   "execution_count": 29,
   "metadata": {},
   "outputs": [
    {
     "name": "stdout",
     "output_type": "stream",
     "text": [
      "[[1.]\n",
      " [1.]]\n",
      "[[0.99873668]\n",
      " [0.83807868]]\n"
     ]
    }
   ],
   "source": [
    "i=0\n",
    "h[0]=entrada(h,data,i)\n",
    "print(h[0])\n",
    "print(predict(h,w))"
   ]
  },
  {
   "cell_type": "code",
   "execution_count": 48,
   "metadata": {},
   "outputs": [
    {
     "name": "stdout",
     "output_type": "stream",
     "text": [
      "[[0.17654745]\n",
      " [0.04311925]]\n"
     ]
    }
   ],
   "source": [
    "etha=1\n",
    "w=np.array((np.random.rand(2,2)))\n",
    "b=np.array((np.random.rand(2,1)))\n",
    "h= np.array((np.random.rand(2,1),np.random.rand(2,1)))\n",
    "output_layer_nodes=2\n",
    "epocs=2000\n",
    "criterio=1e-3\n",
    "c=MSE(y,h)\n",
    "costoOR=[]\n",
    "costoAND=[]\n",
    "print(c)\n",
    "while (c[0]>criterio or c[1]>criterio):\n",
    " for i in data.index:\n",
    "   h[0]=entrada(h,data,i)\n",
    "   y=np.array([[data['OR'].iloc[i]],[data['AND'].iloc[i]]])\n",
    "   z=w.dot(h[0])+b\n",
    "   h[1]=sigmoid(z)\n",
    "   c=MSE(y,h)\n",
    "   costoOR.append(c[0])\n",
    "   costoAND.append(c[1])\n",
    "   #print(sum(c))\n",
    "   for n in range(output_layer_nodes):\n",
    "     Dw=etha*np.transpose(dz(h)*dh(z,n)*dC(y,h,n)) \n",
    "     w[n]=w[n]-Dw\n",
    "     Db=etha*dh(z,n)*dC(y,h,n)\n",
    "     b[n]=b[n]-Db\n",
    "#costo=pd.DataFrame(costo) "
   ]
  },
  {
   "cell_type": "code",
   "execution_count": 98,
   "metadata": {},
   "outputs": [
    {
     "data": {
      "text/plain": [
       "<matplotlib.legend.Legend at 0x254e9ce6348>"
      ]
     },
     "execution_count": 98,
     "metadata": {},
     "output_type": "execute_result"
    },
    {
     "data": {
      "image/png": "[encoded data removed]",
      "text/plain": [
       "<Figure size 1080x504 with 1 Axes>"
      ]
     },
     "metadata": {
      "needs_background": "light"
     },
     "output_type": "display_data"
    }
   ],
   "source": [
    "costoor=pd.DataFrame(costoOR)\n",
    "#costo[0].plot()\n",
    "#costo[1].plot()\n",
    "costoand=pd.DataFrame(costoAND)\n",
    "fig, ax=plt.subplots(figsize=(15,7))\n",
    "ax.plot(costoand,'r.',label='AND')\n",
    "ax.plot(costoor,'b.',label='OR')\n",
    "\n",
    "ax.set_xlabel('no. iteraciones')\n",
    "ax.set_ylabel('costo')\n",
    "ax.legend(loc='upper right')"
   ]
  },
  {
   "cell_type": "code",
   "execution_count": 83,
   "metadata": {},
   "outputs": [
    {
     "name": "stdout",
     "output_type": "stream",
     "text": [
      "[[1.]\n",
      " [0.]]\n",
      "[[0.98012226]\n",
      " [0.0315991 ]]\n"
     ]
    }
   ],
   "source": [
    "i=2\n",
    "h[0]=entrada(h,data,i)\n",
    "print(h[0])\n",
    "print(predict(h,w))"
   ]
  },
  {
   "cell_type": "code",
   "execution_count": null,
   "metadata": {},
   "outputs": [],
   "source": [
    "def importa(archivo,nombres):\n",
    " data = pd.read_csv(archivo,sep=',',names=nombres,skiprows=0)#para archivo simple\n",
    " return data"
   ]
  },
  {
   "cell_type": "code",
   "execution_count": null,
   "metadata": {},
   "outputs": [],
   "source": [
    "\n",
    "def entrada(h,data,i):\n",
    "      h[0][0]=data.I1[i] \n",
    "      h[0][1]=data.I2[i]\n",
    "      return h[0]"
   ]
  },
  {
   "cell_type": "code",
   "execution_count": null,
   "metadata": {},
   "outputs": [],
   "source": [
    "def sigmoid(z):\n",
    "    return 1/(1+np.exp(-z))"
   ]
  },
  {
   "cell_type": "code",
   "execution_count": null,
   "metadata": {},
   "outputs": [],
   "source": [
    "def SE(y,h):\n",
    "    return (y-h[1])**2"
   ]
  },
  {
   "cell_type": "code",
   "execution_count": null,
   "metadata": {},
   "outputs": [],
   "source": [
    "def dC(y,h,n):\n",
    "    return (-2*(y[n]-h[1][n]))\n",
    "    "
   ]
  },
  {
   "cell_type": "code",
   "execution_count": null,
   "metadata": {},
   "outputs": [],
   "source": [
    "def dh(z,n):\n",
    "    return (sigmoid(z[n])*(1-sigmoid(z[n])))"
   ]
  },
  {
   "cell_type": "code",
   "execution_count": null,
   "metadata": {},
   "outputs": [],
   "source": [
    "def dz(h):\n",
    "    return h[0]"
   ]
  },
  {
   "cell_type": "code",
   "execution_count": null,
   "metadata": {},
   "outputs": [],
   "source": [
    "etha=.5\n",
    "nl1=2\n",
    "nl2=2\n",
    "\n",
    "w=np.array((np.random.rand(2,2)))\n",
    "b=np.array((np.random.rand(2,1)))\n",
    "h= np.array((np.random.rand(2,1),np.random.rand(2,1)))\n",
    "y=np.array([[data['OR'].iloc[i]],[data['AND'].iloc[i]]])"
   ]
  },
  {
   "cell_type": "code",
   "execution_count": null,
   "metadata": {},
   "outputs": [],
   "source": [
    "output_layer_nodes=2\n",
    "epocs=200\n",
    "for epoc in range(epocs):\n",
    " for i in data.index:\n",
    "   h[0]=entrada(h,data,i)\n",
    "   y=np.array([[data['OR'].iloc[i]],[data['AND'].iloc[i]]])\n",
    "   z=w.dot(h[0])+b\n",
    "   h[1]=sigmoid(z)\n",
    "   c=MSE(y,h)\n",
    "   #print(sum(c))\n",
    "   for n in range(output_layer_nodes):\n",
    "     Dw=etha*np.transpose(dz(h)*dh(z,n)*dC(y,h,n)) \n",
    "     w[n]=w[n]-Dw\n",
    "     Db=etha*dh(z,n)*dC(y,h,n)\n",
    "     b[n]=b[n]-Db  "
   ]
  }
 ],
 "metadata": {
  "kernelspec": {
   "display_name": "Python 3",
   "language": "python",
   "name": "python3"
  },
  "language_info": {
   "codemirror_mode": {
    "name": "ipython",
    "version": 3
   },
   "file_extension": ".py",
   "mimetype": "text/x-python",
   "name": "python",
   "nbconvert_exporter": "python",
   "pygments_lexer": "ipython3",
   "version": "3.7.6"
  }
 },
 "nbformat": 4,
 "nbformat_minor": 2
}
