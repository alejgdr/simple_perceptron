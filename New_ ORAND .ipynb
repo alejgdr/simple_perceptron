{
 "cells": [
  {
   "cell_type": "code",
   "execution_count": 2,
   "metadata": {},
   "outputs": [],
   "source": [
    "import pandas as pd\n",
    "import numpy as np\n",
    "import matplotlib.pyplot as plt"
   ]
  },
  {
   "cell_type": "code",
   "execution_count": null,
   "metadata": {},
   "outputs": [],
   "source": [
    "def importa(archivo,nombres):\n",
    " data = pd.read_csv(archivo,sep=',',names=nombres,skiprows=0)#para archivo simple\n",
    " return data"
   ]
  },
  {
   "cell_type": "code",
   "execution_count": null,
   "metadata": {},
   "outputs": [],
   "source": [
    "data=importa('ANDOR.csv',['I1','I2','OR','AND'])\n",
    "data"
   ]
  },
  {
   "cell_type": "code",
   "execution_count": null,
   "metadata": {},
   "outputs": [],
   "source": [
    "h= np.array((np.random.rand(2,1),np.random.rand(2,1)))\n",
    "h"
   ]
  },
  {
   "cell_type": "code",
   "execution_count": null,
   "metadata": {},
   "outputs": [],
   "source": [
    "\n",
    "def entrada(h,data,i):\n",
    "      h[0][0]=data.I1[i] \n",
    "      h[0][1]=data.I2[i]\n",
    "      return h[0]"
   ]
  },
  {
   "cell_type": "code",
   "execution_count": null,
   "metadata": {},
   "outputs": [],
   "source": [
    "for pos in range(len(data.I1)):\n",
    " h[0]=entrada(h,data,pos)\n",
    " print(h[0])"
   ]
  },
  {
   "cell_type": "code",
   "execution_count": null,
   "metadata": {},
   "outputs": [],
   "source": [
    "def sigmoid(z):\n",
    "    return 1/(1+np.exp(-z))\n",
    "  "
   ]
  },
  {
   "cell_type": "code",
   "execution_count": null,
   "metadata": {},
   "outputs": [],
   "source": [
    "w=np.array((np.random.rand(2,2)))\n",
    "w"
   ]
  },
  {
   "cell_type": "code",
   "execution_count": null,
   "metadata": {},
   "outputs": [],
   "source": [
    "b=np.array((np.random.rand(2,1)))\n",
    "b"
   ]
  },
  {
   "cell_type": "code",
   "execution_count": null,
   "metadata": {},
   "outputs": [],
   "source": [
    "z=w.dot(entrada(h,data,0))+b\n",
    "z"
   ]
  },
  {
   "cell_type": "code",
   "execution_count": null,
   "metadata": {},
   "outputs": [],
   "source": [
    "h[1]=sigmoid(z)\n",
    "h"
   ]
  },
  {
   "cell_type": "code",
   "execution_count": null,
   "metadata": {},
   "outputs": [],
   "source": [
    "i=2\n",
    "y=np.array([[data['OR'].iloc[i]],[data['AND'].iloc[i]]])\n",
    "y"
   ]
  },
  {
   "cell_type": "code",
   "execution_count": null,
   "metadata": {},
   "outputs": [],
   "source": [
    "def MSE(y,h):\n",
    "    return (y-h[1])**2\n",
    " "
   ]
  },
  {
   "cell_type": "code",
   "execution_count": null,
   "metadata": {},
   "outputs": [],
   "source": [
    "c=MSE(y,h)\n",
    "c"
   ]
  },
  {
   "cell_type": "code",
   "execution_count": null,
   "metadata": {},
   "outputs": [],
   "source": [
    "np.mean(c)"
   ]
  },
  {
   "cell_type": "code",
   "execution_count": null,
   "metadata": {},
   "outputs": [],
   "source": [
    "def dC(y,h,n):\n",
    "    return (-2*(y[n]-h[1][n]))\n",
    "    "
   ]
  },
  {
   "cell_type": "code",
   "execution_count": null,
   "metadata": {},
   "outputs": [],
   "source": [
    "def dh(z,n):\n",
    "    return (sigmoid(z[n])*(1-sigmoid(z[n])))"
   ]
  },
  {
   "cell_type": "code",
   "execution_count": null,
   "metadata": {},
   "outputs": [],
   "source": [
    "def dz(h):\n",
    "    return h[0]"
   ]
  },
  {
   "cell_type": "code",
   "execution_count": null,
   "metadata": {},
   "outputs": [],
   "source": [
    "h[0]=entrada(h,data,i)\n",
    "n=0\n",
    "Dw=np.transpose(dz(h)*dh(z,n)*dC(y,h,n))"
   ]
  },
  {
   "cell_type": "code",
   "execution_count": null,
   "metadata": {},
   "outputs": [],
   "source": [
    "Dw"
   ]
  },
  {
   "cell_type": "code",
   "execution_count": null,
   "metadata": {},
   "outputs": [],
   "source": [
    "Db=dh(z,n)*dC(y,h,n)\n",
    "Db"
   ]
  },
  {
   "cell_type": "code",
   "execution_count": null,
   "metadata": {},
   "outputs": [],
   "source": [
    "h[0]=entrada(h,data,i)\n",
    "y=np.array([[data['OR'].iloc[i]],[data['AND'].iloc[i]]])\n",
    "y"
   ]
  },
  {
   "cell_type": "code",
   "execution_count": null,
   "metadata": {},
   "outputs": [],
   "source": [
    "etha=.5\n",
    "w=np.array((np.random.rand(2,2)))\n",
    "b=np.array((np.random.rand(2,1)))\n",
    "h= np.array((np.random.rand(2,1),np.random.rand(2,1)))\n",
    "y=np.array([[data['OR'].iloc[i]],[data['AND'].iloc[i]]])"
   ]
  },
  {
   "cell_type": "code",
   "execution_count": null,
   "metadata": {},
   "outputs": [],
   "source": [
    "\n",
    "output_layer_nodes=2\n",
    "epocs=200\n",
    "for epoc in range(epocs):\n",
    " for i in data.index:\n",
    "   h[0]=entrada(h,data,i)\n",
    "   y=np.array([[data['OR'].iloc[i]],[data['AND'].iloc[i]]])\n",
    "   z=w.dot(h[0])+b\n",
    "   h[1]=sigmoid(z)\n",
    "   c=MSE(y,h)\n",
    "   #print(sum(c))\n",
    "   for n in range(output_layer_nodes):\n",
    "     Dw=etha*np.transpose(dz(h)*dh(z,n)*dC(y,h,n)) \n",
    "     w[n]=w[n]-Dw\n",
    "     Db=etha*dh(z,n)*dC(y,h,n)\n",
    "     b[n]=b[n]-Db  "
   ]
  },
  {
   "cell_type": "code",
   "execution_count": null,
   "metadata": {},
   "outputs": [],
   "source": [
    "c[1]"
   ]
  },
  {
   "cell_type": "code",
   "execution_count": null,
   "metadata": {},
   "outputs": [],
   "source": [
    "for _,I1 in enumerate(data.I1):\n",
    "    print(i)"
   ]
  },
  {
   "cell_type": "code",
   "execution_count": null,
   "metadata": {},
   "outputs": [],
   "source": [
    "def predict(h,w):\n",
    "      z=w.dot(h[0])+b\n",
    "      h[1]=sigmoid(z)\n",
    "      return(h[1])"
   ]
  },
  {
   "cell_type": "code",
   "execution_count": null,
   "metadata": {},
   "outputs": [],
   "source": [
    "for i in range (0,4,1):\n",
    " print(str(entrada(h,data,i))+ str(predict(h,w)))"
   ]
  },
  {
   "cell_type": "code",
   "execution_count": null,
   "metadata": {},
   "outputs": [],
   "source": [
    "i=0\n",
    "h[0]=entrada(h,data,i)\n",
    "print(h[0])\n",
    "print(predict(h,w))"
   ]
  },
  {
   "cell_type": "code",
   "execution_count": null,
   "metadata": {},
   "outputs": [],
   "source": [
    "etha=1\n",
    "w=np.array((np.random.rand(2,2)))\n",
    "b=np.array((np.random.rand(2,1)))\n",
    "h= np.array((np.random.rand(2,1),np.random.rand(2,1)))\n",
    "output_layer_nodes=2\n",
    "epocs=2000\n",
    "criterio=1e-3\n",
    "c=MSE(y,h)\n",
    "costoOR=[]\n",
    "costoAND=[]\n",
    "print(c)\n",
    "while (c[0]>criterio or c[1]>criterio):\n",
    " for i in data.index:\n",
    "   h[0]=entrada(h,data,i)\n",
    "   y=np.array([[data['OR'].iloc[i]],[data['AND'].iloc[i]]])\n",
    "   z=w.dot(h[0])+b\n",
    "   h[1]=sigmoid(z)\n",
    "   c=MSE(y,h)\n",
    "   costoOR.append(c[0])\n",
    "   costoAND.append(c[1])\n",
    "   #print(sum(c))\n",
    "   for n in range(output_layer_nodes):\n",
    "     Dw=etha*np.transpose(dz(h)*dh(z,n)*dC(y,h,n)) \n",
    "     w[n]=w[n]-Dw\n",
    "     Db=etha*dh(z,n)*dC(y,h,n)\n",
    "     b[n]=b[n]-Db\n",
    "#costo=pd.DataFrame(costo) "
   ]
  },
  {
   "cell_type": "code",
   "execution_count": null,
   "metadata": {},
   "outputs": [],
   "source": [
    "costoor=pd.DataFrame(costoOR)\n",
    "#costo[0].plot()\n",
    "#costo[1].plot()\n",
    "costoand=pd.DataFrame(costoAND)\n",
    "fig, ax=plt.subplots(figsize=(15,7))\n",
    "ax.plot(costoand,'r.',label='AND')\n",
    "ax.plot(costoor,'b.',label='OR')\n",
    "\n",
    "ax.set_xlabel('no. iteraciones')\n",
    "ax.set_ylabel('costo')\n",
    "ax.legend(loc='upper right')"
   ]
  },
  {
   "cell_type": "code",
   "execution_count": null,
   "metadata": {},
   "outputs": [],
   "source": [
    "i=2\n",
    "h[0]=entrada(h,data,i)\n",
    "print(h[0])\n",
    "print(predict(h,w))"
   ]
  },
  {
   "cell_type": "code",
   "execution_count": 3,
   "metadata": {},
   "outputs": [],
   "source": [
    "def importa(archivo,nombres):\n",
    " data = pd.read_csv(archivo,sep=',',names=nombres,skiprows=0)#para archivo simple\n",
    " return data"
   ]
  },
  {
   "cell_type": "code",
   "execution_count": 4,
   "metadata": {},
   "outputs": [],
   "source": [
    "\n",
    "def entrada(h,data,i):\n",
    "      h[0][0]=data.I1[i] \n",
    "      h[0][1]=data.I2[i]\n",
    "      return h[0]"
   ]
  },
  {
   "cell_type": "code",
   "execution_count": 5,
   "metadata": {},
   "outputs": [],
   "source": [
    "def sigmoid(z):\n",
    "    return 1/(1+np.exp(-z))"
   ]
  },
  {
   "cell_type": "code",
   "execution_count": 6,
   "metadata": {},
   "outputs": [],
   "source": [
    "def SE(y,h):\n",
    "    return (y-h[1])**2"
   ]
  },
  {
   "cell_type": "code",
   "execution_count": 7,
   "metadata": {},
   "outputs": [],
   "source": [
    "def dC(y,h,n):\n",
    "    return (-2*(y[n]-h[1][n]))\n",
    "    "
   ]
  },
  {
   "cell_type": "code",
   "execution_count": 8,
   "metadata": {},
   "outputs": [],
   "source": [
    "def dh(z,n):\n",
    "    return (sigmoid(z[n])*(1-sigmoid(z[n])))"
   ]
  },
  {
   "cell_type": "code",
   "execution_count": 9,
   "metadata": {},
   "outputs": [],
   "source": [
    "def dz(h):\n",
    "    return h[0]"
   ]
  },
  {
   "cell_type": "code",
   "execution_count": 10,
   "metadata": {},
   "outputs": [],
   "source": [
    "def predict(h,w):\n",
    "      z=w.dot(h[0])+b\n",
    "      h[1]=sigmoid(z)\n",
    "      return(h[1])"
   ]
  },
  {
   "cell_type": "code",
   "execution_count": 11,
   "metadata": {},
   "outputs": [
    {
     "data": {
      "text/html": [
       "<div>\n",
       "<style scoped>\n",
       "    .dataframe tbody tr th:only-of-type {\n",
       "        vertical-align: middle;\n",
       "    }\n",
       "\n",
       "    .dataframe tbody tr th {\n",
       "        vertical-align: top;\n",
       "    }\n",
       "\n",
       "    .dataframe thead th {\n",
       "        text-align: right;\n",
       "    }\n",
       "</style>\n",
       "<table border=\"1\" class=\"dataframe\">\n",
       "  <thead>\n",
       "    <tr style=\"text-align: right;\">\n",
       "      <th></th>\n",
       "      <th>I1</th>\n",
       "      <th>I2</th>\n",
       "      <th>OR</th>\n",
       "      <th>AND</th>\n",
       "    </tr>\n",
       "  </thead>\n",
       "  <tbody>\n",
       "    <tr>\n",
       "      <th>0</th>\n",
       "      <td>1</td>\n",
       "      <td>1</td>\n",
       "      <td>1</td>\n",
       "      <td>1</td>\n",
       "    </tr>\n",
       "    <tr>\n",
       "      <th>1</th>\n",
       "      <td>0</td>\n",
       "      <td>1</td>\n",
       "      <td>1</td>\n",
       "      <td>0</td>\n",
       "    </tr>\n",
       "    <tr>\n",
       "      <th>2</th>\n",
       "      <td>1</td>\n",
       "      <td>0</td>\n",
       "      <td>1</td>\n",
       "      <td>0</td>\n",
       "    </tr>\n",
       "    <tr>\n",
       "      <th>3</th>\n",
       "      <td>0</td>\n",
       "      <td>0</td>\n",
       "      <td>0</td>\n",
       "      <td>0</td>\n",
       "    </tr>\n",
       "  </tbody>\n",
       "</table>\n",
       "</div>"
      ],
      "text/plain": [
       "   I1  I2  OR  AND\n",
       "0   1   1   1    1\n",
       "1   0   1   1    0\n",
       "2   1   0   1    0\n",
       "3   0   0   0    0"
      ]
     },
     "execution_count": 11,
     "metadata": {},
     "output_type": "execute_result"
    }
   ],
   "source": [
    "data=importa('ANDOR.csv',['I1','I2','OR','AND'])\n",
    "data"
   ]
  },
  {
   "cell_type": "code",
   "execution_count": null,
   "metadata": {},
   "outputs": [],
   "source": [
    "etha=.7\n",
    "epocs=1000\n",
    "criterio=1e-10\n",
    "w=np.array((np.random.rand(2,2)))\n",
    "b=np.array((np.random.rand(2,1)))\n",
    "h= np.array((np.random.rand(2,1),np.random.rand(2,1)))\n",
    "y=np.array([[data['OR']],[data['AND']]])\n",
    "output_layer_nodes=2\n",
    "c=SE(y,h)\n",
    "costoOR=[]\n",
    "costoAND=[]\n",
    "mse=[]\n",
    "costprom=SE(y,h)\n",
    "#while (c[0]>criterio or c[1]>criterio):\n",
    "for epoc in range (epocs):\n",
    " mse.append(np.mean(costprom))\n",
    " costprom=0\n",
    " for i in data.index:\n",
    "   h[0]=entrada(h,data,i)\n",
    "   y=np.array([[data['OR'].iloc[i]],[data['AND'].iloc[i]]])\n",
    "   z=w.dot(h[0])+b\n",
    "   h[1]=sigmoid(z)\n",
    "   c=SE(y,h)\n",
    "   costprom=costprom+np.mean(SE(y,h))\n",
    "   costoOR.append(c[0])\n",
    "   costoAND.append(c[1])\n",
    "   #print(sum(c))\n",
    "   for n in range(output_layer_nodes):\n",
    "     Dw=etha*np.transpose(dz(h)*dh(z,n)*dC(y,h,n)) \n",
    "     w[n]=w[n]-Dw\n",
    "     Db=etha*dh(z,n)*dC(y,h,n)\n",
    "     b[n]=b[n]-Db\n",
    "        \n",
    " if costprom<criterio:\n",
    "    print('break in epoc:',epoc)\n",
    "    break\n",
    "  "
   ]
  },
  {
   "cell_type": "code",
   "execution_count": null,
   "metadata": {},
   "outputs": [],
   "source": [
    "np.mean(c)"
   ]
  },
  {
   "cell_type": "code",
   "execution_count": null,
   "metadata": {},
   "outputs": [],
   "source": [
    "epoc"
   ]
  },
  {
   "cell_type": "code",
   "execution_count": null,
   "metadata": {},
   "outputs": [],
   "source": [
    "costoor=pd.DataFrame(costoOR)\n",
    "#costo[0].plot()\n",
    "#costo[1].plot()\n",
    "costoand=pd.DataFrame(costoAND)\n",
    "meanse=pd.DataFrame(mse)\n",
    "fig, ax=plt.subplots(figsize=(15,7))\n",
    "ax.plot(costoand,'g.',label='AND')\n",
    "ax.plot(costoor,'y.',label='OR')\n",
    "ax.plot(meanse,'k-',label='RMSE')\n",
    "\n",
    "ax.set_xlabel('no. iteraciones')\n",
    "ax.set_ylabel('Square Error')\n",
    "ax.legend(loc='upper right')"
   ]
  },
  {
   "cell_type": "code",
   "execution_count": null,
   "metadata": {},
   "outputs": [],
   "source": [
    "i=0\n",
    "h[0]=entrada(h,data,i)\n",
    "print('Input',h[0])\n",
    "print('output',predict(h,w))"
   ]
  },
  {
   "cell_type": "code",
   "execution_count": null,
   "metadata": {},
   "outputs": [],
   "source": [
    "def train(h,epocs,criterio,lr,data):\n",
    "    w=np.array((np.random.rand(2,2)))\n",
    "    b=np.array((np.random.rand(2,1)))\n",
    "    y=np.array([[data['OR']],[data['AND']]])\n",
    "    output_layer_nodes=2\n",
    "    c=SE(y,h)\n",
    "    mse=[]\n",
    "    costoOR=[]\n",
    "    costoAND=[]\n",
    "    costprom=SE(y,h)\n",
    "    #while (c[0]>criterio or c[1]>criterio):\n",
    "    for epoc in range (epocs):\n",
    "     mse.append(np.mean(costprom))\n",
    "     costprom=0\n",
    "     for i in data.index:\n",
    "       h[0]=entrada(h,data,i)\n",
    "       y=np.array([[data['OR'].iloc[i]],[data['AND'].iloc[i]]])\n",
    "       z=w.dot(h[0])+b\n",
    "       h[1]=sigmoid(z)\n",
    "       c=SE(y,h)\n",
    "       costprom=costprom+np.mean(SE(y,h))\n",
    "       costoOR.append(c[0])\n",
    "       costoAND.append(c[1])\n",
    "       #print(sum(c))\n",
    "       for n in range(output_layer_nodes):\n",
    "         Dw=etha*np.transpose(dz(h)*dh(z,n)*dC(y,h,n)) \n",
    "         w[n]=w[n]-Dw\n",
    "         Db=etha*dh(z,n)*dC(y,h,n)\n",
    "         b[n]=b[n]-Db\n",
    "            \n",
    "     if costprom<criterio:\n",
    "        print('break in epoc:',epoc)\n",
    "        break\n",
    "    return (w,b,costoOR,costoAND,mse)"
   ]
  },
  {
   "cell_type": "code",
   "execution_count": null,
   "metadata": {},
   "outputs": [],
   "source": [
    "h= np.array((np.random.rand(2,1),np.random.rand(2,1)))\n",
    "fit=train(1000,1e-5,.5,data)"
   ]
  },
  {
   "cell_type": "code",
   "execution_count": null,
   "metadata": {},
   "outputs": [],
   "source": [
    "w=fit[0]\n",
    "b=fit[1]\n",
    "costoOR=fit[2]\n",
    "costoAND=fit[3]\n",
    "costoprom=fit[4]"
   ]
  },
  {
   "cell_type": "code",
   "execution_count": null,
   "metadata": {},
   "outputs": [],
   "source": [
    "costoor=pd.DataFrame(costoOR)\n",
    "#costo[0].plot()\n",
    "#costo[1].plot()\n",
    "costoand=pd.DataFrame(costoAND)\n",
    "meanse=pd.DataFrame(costoprom)\n",
    "fig, ax=plt.subplots(figsize=(15,7))\n",
    "ax.plot(costoand,'g.',label='AND')\n",
    "ax.plot(costoor,'y.',label='OR')\n",
    "ax.plot(meanse,'k-',label='RMSE')\n",
    "\n",
    "ax.set_xlabel('no. iteraciones')\n",
    "ax.set_ylabel('Square Error')\n",
    "ax.legend(loc='upper right')"
   ]
  },
  {
   "cell_type": "code",
   "execution_count": null,
   "metadata": {},
   "outputs": [],
   "source": [
    "i=0\n",
    "h[0]=entrada(h,data,i)\n",
    "print('Input',h[0])\n",
    "print('output',predict(h,w))"
   ]
  },
  {
   "cell_type": "code",
   "execution_count": null,
   "metadata": {},
   "outputs": [],
   "source": []
  }
 ],
 "metadata": {
  "kernelspec": {
   "display_name": "Python 3",
   "language": "python",
   "name": "python3"
  },
  "language_info": {
   "codemirror_mode": {
    "name": "ipython",
    "version": 3
   },
   "file_extension": ".py",
   "mimetype": "text/x-python",
   "name": "python",
   "nbconvert_exporter": "python",
   "pygments_lexer": "ipython3",
   "version": "3.7.6"
  }
 },
 "nbformat": 4,
 "nbformat_minor": 2
}
